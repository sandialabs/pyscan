{
 "cells": [
  {
   "cell_type": "code",
   "execution_count": 8,
   "metadata": {
    "metadata": {}
   },
   "outputs": [
    {
     "name": "stdout",
     "output_type": "stream",
     "text": [
      "The autoreload extension is already loaded. To reload it, use:\n",
      "  %reload_ext autoreload\n"
     ]
    }
   ],
   "source": [
    "%load_ext autoreload\n",
    "%autoreload 2\n",
    "\n",
    "import pyscan as ps\n",
    "from pyscan.drivers.testing.auto_test_driver import test_driver\n",
    "from pyvisa import ResourceManager, VisaIOError\n",
    "import pytest\n",
    "from time import sleep"
   ]
  },
  {
   "cell_type": "code",
   "execution_count": 9,
   "metadata": {
    "metadata": {}
   },
   "outputs": [
    {
     "name": "stdout",
     "output_type": "stream",
     "text": [
      "GPIB0::4::INSTR Stanford_Research_Systems,SR860,005709,1.55\n",
      "\n"
     ]
    }
   ],
   "source": [
    "rm = ResourceManager()\n",
    "\n",
    "rs = rm.list_resources()\n",
    "# print(rs)\n",
    "for r in rs:\n",
    "    res = rm.open_resource(r)\n",
    "    try:      \n",
    "        name = res.query('*IDN?')\n",
    "        if 'SR860' in name:\n",
    "            print(r, name)\n",
    "            break\n",
    "    except VisaIOError:\n",
    "        pass\n",
    "    res.close()"
   ]
  },
  {
   "cell_type": "code",
   "execution_count": 11,
   "metadata": {
    "metadata": {}
   },
   "outputs": [
    {
     "name": "stdout",
     "output_type": "stream",
     "text": [
      "Blacklisted settings that will not be tested or changed are: \n",
      "[('_amplitude', 0.0),\n",
      " ('_voltage_offset', 0.0),\n",
      " ('_auxiliary_output_voltage_1', 0.0),\n",
      " ('_auxiliary_output_voltage_2', 0.0),\n",
      " ('_auxiliary_output_voltage_3', 0.0),\n",
      " ('_auxiliary_output_voltage_4', 0.0)]\n",
      "\n",
      "Beginning tests for:  Stanford860  version  0.2.0\n",
      "_id_settings\n",
      "_timebase_mode_settings\n",
      "_timebase_state_settings\n",
      "_phase_settings\n",
      "_frequency_settings\n",
      "_internal_frequency_settings\n",
      "_external_frequency_settings\n",
      "_detection_frequency_settings\n",
      "_harmonic_settings\n",
      "_dual_harmonic_settings\n",
      "_chopper_blade_slots_settings\n",
      "_chopper_blade_phase_settings\n",
      "_dc_out_reference_settings\n",
      "_reference_source_settings\n",
      "_reference_trigger_mode_settings\n",
      "_reference_impedance_settings\n",
      "_signal_input_settings\n",
      "_voltage_input_mode_settings\n",
      "_voltage_input_coupling_settings\n",
      "_voltage_input_shield_settings\n",
      "_voltage_input_range_settings\n",
      "_current_input_impedance_settings\n",
      "_signal_strength_settings\n",
      "_voltage_sensitivity_settings\n",
      "_time_constant_settings\n",
      "_filter_slope_settings\n",
      "_synchronous_filter_settings\n",
      "_advanced_filter_settings\n",
      "_equivalent_bandwidth_settings\n",
      "_channel_1_output_settings\n",
      "_channel_2_output_settings\n",
      "_x_expand_settings\n",
      "_y_expand_settings\n",
      "_r_expand_settings\n",
      "_x_offset_state_settings\n",
      "_y_offset_state_settings\n",
      "_r_offset_state_settings\n",
      "_x_offset_percent_settings\n",
      "_y_offset_percent_settings\n",
      "_r_offset_percent_settings\n",
      "_x_ratio_state_settings\n",
      "_y_ratio_state_settings\n",
      "_r_ratio_state_settings\n",
      "_auxiliary_input_voltage_1_settings\n",
      "_auxiliary_input_voltage_2_settings\n",
      "_auxiliary_input_voltage_3_settings\n",
      "_auxiliary_input_voltage_4_settings\n",
      "\n",
      "8 range properties found and tested out of 53 total settings found.\n",
      "0 values properties found and tested out of 53 total settings found.\n",
      "28 indexed values properties found and tested out of 53 total settings found.\n",
      "0 dict values properties found and tested out of 53 total settings found.\n",
      "6 blacklisted settings not testing (likely due to interdependencies not suitable for automated testing)\n",
      "36 properties tested out of 53 total settings.\n",
      "\n",
      "Restored settings are different for the following:  {('timebase_state', 'external'), ('equivalent_bandwidth', 2.5), ('detection_frequency', 100000.0), ('id', 'Stanford_Research_Systems,SR860,005709,1.55'), ('auxiliary_input_voltage_1', -0.00053000450134), ('external_frequency', 0.00063607783522), ('auxiliary_input_voltage_2', -0.0003297328949), ('internal_frequency', 100000.0), ('auxiliary_input_voltage_3', 0.00010013580322), ('auxiliary_input_voltage_4', -0.00013303756714), ('signal_strength', 0)}\n",
      "\n",
      "\n",
      "\u001b[92m Property implementation tests passed, instrument: Stanford860 looks ready to go. \u001b[0m\n",
      "Checking driver doc string.\n",
      "\u001b[92m Docstring tests passed and looking good. \u001b[0m\n",
      "The new test log for this driver is:  Passed with stanford860 version v0.2.0 tested on pyscan version v0.8.3 at 2024-10-16 09:42:36\n",
      "\u001b[1;32m Stanford860 test results logged. \u001b[0m\n"
     ]
    }
   ],
   "source": [
    "srs860 = ps.Stanford860(res)\n",
    "test_driver(srs860, verbose=False)\n"
   ]
  },
  {
   "cell_type": "code",
   "execution_count": 12,
   "metadata": {},
   "outputs": [
    {
     "name": "stdout",
     "output_type": "stream",
     "text": [
      "-1.8110673849e-08\n",
      "6.7703318507e-08\n",
      "7.488257836e-08\n",
      "118.55735016\n"
     ]
    }
   ],
   "source": [
    "# Test read channels\n",
    "\n",
    "for channel in list(range(1, 5)):\n",
    "    print(srs860.read_channel(channel))"
   ]
  },
  {
   "cell_type": "code",
   "execution_count": 13,
   "metadata": {},
   "outputs": [
    {
     "name": "stdout",
     "output_type": "stream",
     "text": [
      "x -8.4704034009e-08\n",
      "y 1.2525850934e-07\n",
      "r 1.401335652e-07\n",
      "theta 121.91644287\n",
      "aux_in_1 -0.00083541870117\n",
      "aux_in_2 -0.00025177001953\n",
      "aux_in_3 0.00017166137695\n",
      "aux_in_4 2.2888183594e-05\n",
      "x_noise 1.7659951448\n",
      "y_noise nan\n",
      "aux_out_1 0.0\n",
      "aux_out_2 0.0\n",
      "phaseamplitude 0.0\n",
      "dc_offset 0.0\n",
      "internal_frequency 0.0\n",
      "external_frequency 100000.0\n"
     ]
    }
   ],
   "source": [
    "# Test read \n",
    "parameters = [\n",
    "    \"x\", \"y\", \"r\", \"theta\", \"aux_in_1\", \"aux_in_2\", \"aux_in_3\", \"aux_in_4\",\n",
    "    \"x_noise\", \"y_noise\", \"aux_out_1\", \"aux_out_2\", \"phase\"\n",
    "    \"amplitude\", \"dc_offset\", \"internal_frequency\", \"external_frequency\"]\n",
    "\n",
    "for param in parameters:\n",
    "    print(param, srs860.read(param))"
   ]
  },
  {
   "cell_type": "code",
   "execution_count": 14,
   "metadata": {},
   "outputs": [
    {
     "name": "stdout",
     "output_type": "stream",
     "text": [
      "[7.6801391913e-08, 7.6801391913e-08]\n",
      "[8.1036887423e-08, 9.5599574479e-08]\n",
      "[1.0447769938e-07, -0.03803052542171321]\n",
      "[1.293406342e-07, 116.66421509]\n",
      "[1.3341853844e-07, -0.00034332275391]\n",
      "[1.4005352966e-07, 0.0]\n",
      "[1.4855240238e-07, -0.00012588500977]\n",
      "[1.5229676364e-07, 1.7659951448]\n",
      "[1.4999460518e-07, nan]\n",
      "[1.4387092051e-07, 0.0]\n",
      "[1.3570021906e-07, 0.0]\n",
      "[1.3867341409e-07, 0.0]\n",
      "[1.3666570453e-07, 0.0]\n",
      "[1.430487373e-07, 0.0]\n",
      "[1.3871361659e-07, 100000.0]\n",
      "[1.535691041e-07, 0.0058028604835]\n"
     ]
    },
    {
     "data": {
      "text/plain": [
       "[1.5602878989e-07, 1.5685968435e-07, -0.03803052542171321]"
      ]
     },
     "execution_count": 14,
     "metadata": {},
     "output_type": "execute_result"
    }
   ],
   "source": [
    "parameters = [\n",
    "    \"x\", \"y\", \"theta\", \"r\", \"aux_in_1\", \"aux_in_2\", \"aux_in_3\", \"aux_in_4\",\n",
    "    \"x_noise\", \"y_noise\", \"aux_out_1\", \"aux_out_2\", \"phase\"\n",
    "    \"amplitude\", \"dc_offset\", \"internal_frequency\", \"external_frequency\"]\n",
    "\n",
    "for param in parameters:\n",
    "    print(srs860.snap('x', param))\n",
    "\n",
    "srs860.snap('x', 'y', 'theta')\n"
   ]
  }
 ],
 "metadata": {
  "kernelspec": {
   "display_name": ".venv",
   "language": "python",
   "name": "python3"
  },
  "language_info": {
   "codemirror_mode": {
    "name": "ipython",
    "version": 3
   },
   "file_extension": ".py",
   "mimetype": "text/x-python",
   "name": "python",
   "nbconvert_exporter": "python",
   "pygments_lexer": "ipython3",
   "version": "3.12.4"
  }
 },
 "nbformat": 4,
 "nbformat_minor": 2
}
