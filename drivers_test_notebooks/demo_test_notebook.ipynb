{
 "cells": [
  {
   "cell_type": "code",
   "execution_count": 19,
   "metadata": {},
   "outputs": [
    {
     "name": "stdout",
     "output_type": "stream",
     "text": [
      "The autoreload extension is already loaded. To reload it, use:\n",
      "  %reload_ext autoreload\n"
     ]
    }
   ],
   "source": [
    "%load_ext autoreload\n",
    "%autoreload 2\n",
    "\n",
    "import pyscan as ps\n",
    "from pyscan.drivers.testing.auto_test_driver import test_driver"
   ]
  },
  {
   "cell_type": "code",
   "execution_count": 20,
   "metadata": {},
   "outputs": [],
   "source": [
    "from pyvisa import ResourceManager, VisaIOError"
   ]
  },
  {
   "cell_type": "code",
   "execution_count": 21,
   "metadata": {},
   "outputs": [
    {
     "name": "stdout",
     "output_type": "stream",
     "text": [
      "GPIB0::8::INSTR Stanford_Research_Systems,SR830,s/n86813,ver1.07 \n",
      "\n"
     ]
    }
   ],
   "source": [
    "rm = ResourceManager()\n",
    "\n",
    "rs = rm.list_resources()\n",
    "# print(rs)\n",
    "for r in rs:\n",
    "    res = rm.open_resource(r)\n",
    "    try:      \n",
    "        name = res.query('*IDN?')\n",
    "        if 'SR830' in name:\n",
    "            print(r, name)\n",
    "            break\n",
    "    except VisaIOError:\n",
    "        pass\n",
    "    res.close()"
   ]
  },
  {
   "cell_type": "code",
   "execution_count": 22,
   "metadata": {},
   "outputs": [
    {
     "data": {
      "text/plain": [
       "'Stanford_Research_Systems,SR830,s/n86813,ver1.07 \\n'"
      ]
     },
     "execution_count": 22,
     "metadata": {},
     "output_type": "execute_result"
    }
   ],
   "source": [
    "res.query('*IDN?')"
   ]
  },
  {
   "cell_type": "code",
   "execution_count": 28,
   "metadata": {},
   "outputs": [],
   "source": [
    "# Jasmine suggests that this may hide a bug in certain drivers where reassigning an instrument connection variable\n",
    "# will not close the previous connection. This may be an issue we need to test for so that reconnecting is reliable.\n",
    "# Drivers with this issue may need an additional clause \"__close__\" to resolve reconnecting issues.\n",
    "try:\n",
    "    del srs830\n",
    "except: \n",
    "    pass\n",
    "\n",
    "srs830 = ps.Stanford830(res)"
   ]
  },
  {
   "cell_type": "code",
   "execution_count": 29,
   "metadata": {},
   "outputs": [
    {
     "name": "stdout",
     "output_type": "stream",
     "text": [
      "0.1.0\n"
     ]
    }
   ],
   "source": [
    "print(srs830._version)"
   ]
  },
  {
   "cell_type": "code",
   "execution_count": 30,
   "metadata": {},
   "outputs": [
    {
     "name": "stdout",
     "output_type": "stream",
     "text": [
      "dict_keys(['instrument', '_driver_class', 'debug', '_version', 'black_list_for_testing', '_phase_settings', '_reference_source_settings', '_frequency_settings', '_reference_slope_settings', '_harmonic_settings', '_amplitude_settings', '_input_configuration_settings', '_input_ground_settings', '_input_coupling_settings', '_input_line_filter_settings', '_sensitivity_settings', '_reserve_mode_settings', '_time_constant_settings', '_filter_slope_settings', '_synchronous_filter_settings', '_display1_output_source_settings', '_display2_output_source_settings', '_auxillary_voltage1_settings', '_auxillary_voltage2_settings', '_auxillary_voltage3_settings', '_auxillary_voltage4_settings', '_sample_rate_settings', '_end_buffer_mode_settings', '_trigger_mode_settings', '_local_remote_control_settings', '_gpib_overrided_state_settings', '_power_on_status_clear_settings', '_phase', '_reference_source', '_frequency', '_reference_slope', '_harmonic', '_amplitude', '_input_configuration', '_input_ground', '_input_coupling', '_input_line_filter', '_sensitivity', '_reserve_mode', '_time_constant', '_filter_slope', '_synchronous_filter', '_display1_output_source', '_display2_output_source', '_auxillary_voltage1', '_auxillary_voltage2', '_auxillary_voltage3', '_auxillary_voltage4', '_sample_rate', '_end_buffer_mode', '_trigger_mode', '_local_remote_control', '_gpib_overrided_state', '_power_on_status_clear'])\n",
      "Initial state for the Stanford830 was: [('phase', 180.0), ('reference_source', 'external'), ('frequency', 1000.0), ('reference_slope', 'sine zero'), ('harmonic', 1), ('amplitude', 0.984), ('input_configuration', 'A-B'), ('input_ground', 'AC'), ('input_coupling', 'AC'), ('input_line_filter', 'none'), ('sensitivity', 0.01), ('reserve_mode', 'high'), ('time_constant', 30), ('filter_slope', 6), ('synchronous_filter', 'off'), ('display1_output_source', 'x'), ('display2_output_source', 'y'), ('auxillary_voltage1', -10.495), ('auxillary_voltage2', -10.5), ('auxillary_voltage3', -10.5), ('auxillary_voltage4', -10.5), ('sample_rate', 0.25), ('end_buffer_mode', 'one shot'), ('trigger_mode', 'on'), ('local_remote_control', 'remote'), ('gpib_overrided_state', 'on'), ('power_on_status_clear', 'on')]\n",
      "These blacklisted settings and their corresponding values were not reset:  [('_amplitude', 0.984), ('_input_configuration', 'A-B'), ('_time_constant', 30), ('_power_on_status_clear', 'on')]\n",
      "dict_keys(['instrument', '_driver_class', 'debug', '_version', 'black_list_for_testing', '_phase_settings', '_reference_source_settings', '_frequency_settings', '_reference_slope_settings', '_harmonic_settings', '_amplitude_settings', '_input_configuration_settings', '_input_ground_settings', '_input_coupling_settings', '_input_line_filter_settings', '_sensitivity_settings', '_reserve_mode_settings', '_time_constant_settings', '_filter_slope_settings', '_synchronous_filter_settings', '_display1_output_source_settings', '_display2_output_source_settings', '_auxillary_voltage1_settings', '_auxillary_voltage2_settings', '_auxillary_voltage3_settings', '_auxillary_voltage4_settings', '_sample_rate_settings', '_end_buffer_mode_settings', '_trigger_mode_settings', '_local_remote_control_settings', '_gpib_overrided_state_settings', '_power_on_status_clear_settings', '_phase', '_reference_source', '_frequency', '_reference_slope', '_harmonic', '_amplitude', '_input_configuration', '_input_ground', '_input_coupling', '_input_line_filter', '_sensitivity', '_reserve_mode', '_time_constant', '_filter_slope', '_synchronous_filter', '_display1_output_source', '_display2_output_source', '_auxillary_voltage1', '_auxillary_voltage2', '_auxillary_voltage3', '_auxillary_voltage4', '_sample_rate', '_end_buffer_mode', '_trigger_mode', '_local_remote_control', '_gpib_overrided_state', '_power_on_status_clear'])\n",
      "Reset state for the Stanford830 was: [('phase', 180.0), ('reference_source', 'external'), ('frequency', 1000.0), ('reference_slope', 'sine zero'), ('harmonic', 1), ('amplitude', 0.984), ('input_configuration', 'A-B'), ('input_ground', 'AC'), ('input_coupling', 'AC'), ('input_line_filter', 'none'), ('sensitivity', 0.01), ('reserve_mode', 'high'), ('time_constant', 30), ('filter_slope', 6), ('synchronous_filter', 'off'), ('display1_output_source', 'x'), ('display2_output_source', 'y'), ('auxillary_voltage1', -10.495), ('auxillary_voltage2', -10.5), ('auxillary_voltage3', -10.5), ('auxillary_voltage4', -10.5), ('sample_rate', 0.25), ('end_buffer_mode', 'one shot'), ('trigger_mode', 'on'), ('local_remote_control', 'remote'), ('gpib_overrided_state', 'on'), ('power_on_status_clear', 'on')]\n",
      "Beginning tests for:  Stanford830\n",
      "7 range properties found and tested out of 27 total settings found.\n",
      "0 values properties found and tested out of 27 total settings found.\n",
      "13 indexed values properties found and tested out of 27 total settings found.\n",
      "3 dict values properties found and tested out of 27 total settings found.\n",
      "4 blacklisted settings not testing (likely due to interdependencies not suitable for automated testing)\n",
      "23 properties tested out of 27 total settings.\n",
      "Settings restored to: [('phase', 180.0), ('reference_source', 'external'), ('frequency', 1000.0), ('reference_slope', 'sine zero'), ('harmonic', 1), ('amplitude', 0.984), ('input_configuration', 'A-B'), ('input_ground', 'AC'), ('input_coupling', 'AC'), ('input_line_filter', 'none'), ('sensitivity', 0.01), ('reserve_mode', 'high'), ('time_constant', 30), ('filter_slope', 6), ('synchronous_filter', 'off'), ('display1_output_source', 'x'), ('display2_output_source', 'y'), ('auxillary_voltage1', -10.495), ('auxillary_voltage2', -10.5), ('auxillary_voltage3', -10.5), ('auxillary_voltage4', -10.5), ('sample_rate', 0.25), ('end_buffer_mode', 'one shot'), ('trigger_mode', 'on'), ('local_remote_control', 'remote'), ('gpib_overrided_state', 'on'), ('power_on_status_clear', 'on')]\n",
      "The previous instrument version was:  0.1.0\n",
      "The new test log for this driver is:  Passed with stanford830 version v0.1.0 tested on pyscan version v0.3.0 at 2024-05-28 12:35:11\n",
      "\u001b[1;32mTests passed, instrument Stanford830 looks ready to go.\u001b[0m\n"
     ]
    }
   ],
   "source": [
    "'''\n",
    "If a device is failing test cases for a particular property try the following solutions first:\n",
    "\n",
    "1. Make sure there are no typos, abnormalities, or other mismatches in formatting in the add_device_property section\n",
    "for the given property.\n",
    "\n",
    "2. If the instrument's documentation notes that property has dependencies, create a black_list_for_testing attribute\n",
    "of type list in the driver init and include the .\n",
    "For the Stanford830 it looks like this: self.black_list_for_testing = ['_input_configuration', \"_time_constant\"]\n",
    "\n",
    "3. Make sure that all the properties being added to the device are also updated\n",
    "For the Standford830 it operates like this: \n",
    "    def __init__(self, instrument)\n",
    "        self.initialize_properties()\n",
    "        self.update_properties()\n",
    "\n",
    "    def update_properties(self):\n",
    "        self.phase\n",
    "        self.*all other added properties*\n",
    "\n",
    "If properties are added but not updated in this way it will not pass the drivers test unit.\n",
    "\n",
    "These are the most common problems I encountered when testing for the Stanford830.    \n",
    "'''\n",
    "\n",
    "test_driver(srs830)"
   ]
  },
  {
   "cell_type": "code",
   "execution_count": 10,
   "metadata": {},
   "outputs": [
    {
     "name": "stdout",
     "output_type": "stream",
     "text": [
      "\u001b[1;31mType:\u001b[0m        property\n",
      "\u001b[1;31mString form:\u001b[0m <property object at 0x000001F410DC2930>\n",
      "\u001b[1;31mDocstring:\u001b[0m  \n",
      "input_configuration : int\n",
      "Indexed_values:  ['A', 'A-B', 'Ie6', 'Ie8']. Returns int."
     ]
    }
   ],
   "source": [
    "srs830.input_configuration?"
   ]
  },
  {
   "cell_type": "code",
   "execution_count": 11,
   "metadata": {},
   "outputs": [
    {
     "name": "stdout",
     "output_type": "stream",
     "text": [
      "ASRL3::INSTR Keithley Instruments Inc.,Model 2260B-80-27,1403238,01.72.20150702\n",
      "\n"
     ]
    }
   ],
   "source": [
    "rm = ResourceManager()\n",
    "\n",
    "rs = rm.list_resources()\n",
    "# print(rs)\n",
    "for r in rs:\n",
    "    res = rm.open_resource(r)\n",
    "    try:      \n",
    "        name = res.query('*IDN?')\n",
    "        if 'Keithley Instruments Inc.,Model 2260B' in name:\n",
    "            print(r, name)\n",
    "            break\n",
    "    except VisaIOError:\n",
    "        pass\n",
    "    res.close()"
   ]
  },
  {
   "cell_type": "code",
   "execution_count": 16,
   "metadata": {},
   "outputs": [
    {
     "name": "stdout",
     "output_type": "stream",
     "text": [
      "ASRL3::INSTR Keithley Instruments Inc.,Model 2260B-80-27,1403238,01.72.20150702\n",
      "\n"
     ]
    }
   ],
   "source": [
    "try:\n",
    "    del keithley\n",
    "except: \n",
    "    pass\n",
    "keithley = ps.Keithley2260B(res)"
   ]
  },
  {
   "cell_type": "code",
   "execution_count": 17,
   "metadata": {},
   "outputs": [],
   "source": [
    "try:\n",
    "    del keithley\n",
    "except: \n",
    "    pass\n",
    "keithley = ps.Keithley2260B(res)"
   ]
  },
  {
   "cell_type": "code",
   "execution_count": 13,
   "metadata": {},
   "outputs": [
    {
     "name": "stdout",
     "output_type": "stream",
     "text": [
      "0.1.0\n"
     ]
    }
   ],
   "source": [
    "print(keithley.version)"
   ]
  },
  {
   "cell_type": "code",
   "execution_count": 18,
   "metadata": {},
   "outputs": [
    {
     "name": "stdout",
     "output_type": "stream",
     "text": [
      "dict_keys(['instrument', '_driver_class', 'debug', '_version', 'max_current', 'min_current', 'max_current_trigger_ampliutde', 'min_current_trigger_ampliutde', 'max_over_current_level', 'min_over_current_level', 'max_current_rising_slew_rate', 'min_current_rising_slew_rate', 'max_current_falling_slew_rate', 'min_current_falling_slew_rate', 'max_resistance', 'min_resistance', 'max_voltage', 'min_voltage', 'max_voltage_trigger_ampliutde', 'min_voltage_trigger_ampliutde', 'max_over_voltage_level', 'min_over_voltage_level', 'max_voltage_rising_slew_rate', 'min_voltage_rising_slew_rate', 'max_voltage_falling_slew_rate', 'min_voltage_falling_slew_rate', 'black_list_for_testing', '_output_on_delay_settings', '_output_off_delay_settings', '_output_mode_settings', '_output_settings', '_output_trigger_state_settings', '_smoothing_settings', '_current_settings', '_curret_trigger_amplitude_settings', '_over_current_level_settings', '_current_protection_state_settings', '_current_rising_slew_rate_settings', '_current_falling_slew_rate_settings', '_resistance_settings', '_voltage_settings', '_voltage_trigger_amplitude_settings', '_over_voltage_level_settings', '_voltage_rising_slew_rate_settings', '_voltage_falling_slew_rate_settings', '_transient_trigger_source_settings', '_output_trigger_source_settings', '_output_on_delay', '_output_off_delay', '_output_mode', '_output', '_output_trigger_state', '_smoothing', '_current', '_curret_trigger_amplitude', '_over_current_level', '_current_protection_state', '_current_rising_slew_rate', '_current_falling_slew_rate', '_resistance', '_voltage', '_voltage_trigger_amplitude', '_over_voltage_level', '_voltage_rising_slew_rate', '_voltage_falling_slew_rate', '_transient_trigger_source', '_output_trigger_source'])\n",
      "Initial state for the Keithley2260B was: [('output_on_delay', 0.0), ('output_off_delay', 0.0), ('output_mode', 'CVHS'), ('output', 'off'), ('output_trigger_state', 'off'), ('smoothing', 'low'), ('current', 0.0), ('curret_trigger_amplitude', 0.0), ('over_current_level', 29.7), ('current_protection_state', 'off'), ('current_rising_slew_rate', 0.01), ('current_falling_slew_rate', 0.01), ('resistance', 0.01), ('voltage', 0.0), ('voltage_trigger_amplitude', 0.0), ('over_voltage_level', 8.0), ('voltage_rising_slew_rate', 0.1), ('voltage_falling_slew_rate', 0.1), ('transient_trigger_source', 'BUS'), ('output_trigger_source', 'BUS')]\n",
      "These blacklisted settings and their corresponding values were not reset:  [('_current', 0.0), ('_voltage', 0.0)]\n",
      "dict_keys(['instrument', '_driver_class', 'debug', '_version', 'max_current', 'min_current', 'max_current_trigger_ampliutde', 'min_current_trigger_ampliutde', 'max_over_current_level', 'min_over_current_level', 'max_current_rising_slew_rate', 'min_current_rising_slew_rate', 'max_current_falling_slew_rate', 'min_current_falling_slew_rate', 'max_resistance', 'min_resistance', 'max_voltage', 'min_voltage', 'max_voltage_trigger_ampliutde', 'min_voltage_trigger_ampliutde', 'max_over_voltage_level', 'min_over_voltage_level', 'max_voltage_rising_slew_rate', 'min_voltage_rising_slew_rate', 'max_voltage_falling_slew_rate', 'min_voltage_falling_slew_rate', 'black_list_for_testing', '_output_on_delay_settings', '_output_off_delay_settings', '_output_mode_settings', '_output_settings', '_output_trigger_state_settings', '_smoothing_settings', '_current_settings', '_curret_trigger_amplitude_settings', '_over_current_level_settings', '_current_protection_state_settings', '_current_rising_slew_rate_settings', '_current_falling_slew_rate_settings', '_resistance_settings', '_voltage_settings', '_voltage_trigger_amplitude_settings', '_over_voltage_level_settings', '_voltage_rising_slew_rate_settings', '_voltage_falling_slew_rate_settings', '_transient_trigger_source_settings', '_output_trigger_source_settings', '_output_on_delay', '_output_off_delay', '_output_mode', '_output', '_output_trigger_state', '_smoothing', '_current', '_curret_trigger_amplitude', '_over_current_level', '_current_protection_state', '_current_rising_slew_rate', '_current_falling_slew_rate', '_resistance', '_voltage', '_voltage_trigger_amplitude', '_over_voltage_level', '_voltage_rising_slew_rate', '_voltage_falling_slew_rate', '_transient_trigger_source', '_output_trigger_source'])\n",
      "Reset state for the Keithley2260B was: [('output_on_delay', 0.0), ('output_off_delay', 0.0), ('output_mode', 'CVHS'), ('output', 'off'), ('output_trigger_state', 'off'), ('smoothing', 'low'), ('current', 0.0), ('curret_trigger_amplitude', 0.0), ('over_current_level', 29.7), ('current_protection_state', 'off'), ('current_rising_slew_rate', 0.01), ('current_falling_slew_rate', 0.01), ('resistance', 0.01), ('voltage', 0.0), ('voltage_trigger_amplitude', 0.0), ('over_voltage_level', 8.0), ('voltage_rising_slew_rate', 0.1), ('voltage_falling_slew_rate', 0.1), ('transient_trigger_source', 'BUS'), ('output_trigger_source', 'BUS')]\n",
      "Beginning tests for:  Keithley2260B\n",
      "11 range properties found and tested out of 20 total settings found.\n",
      "2 values properties found and tested out of 20 total settings found.\n",
      "2 indexed values properties found and tested out of 20 total settings found.\n",
      "3 dict values properties found and tested out of 20 total settings found.\n",
      "2 blacklisted settings not testing (likely due to interdependencies not suitable for automated testing)\n",
      "18 properties tested out of 20 total settings.\n",
      "Settings restored to: [('output_on_delay', 0.0), ('output_off_delay', 0.0), ('output_mode', 'CVHS'), ('output', 'off'), ('output_trigger_state', 'off'), ('smoothing', 'low'), ('current', 0.0), ('curret_trigger_amplitude', 0.0), ('over_current_level', 29.7), ('current_protection_state', 'off'), ('current_rising_slew_rate', 0.01), ('current_falling_slew_rate', 0.01), ('resistance', 0.01), ('voltage', 0.0), ('voltage_trigger_amplitude', 0.0), ('over_voltage_level', 8.0), ('voltage_rising_slew_rate', 0.1), ('voltage_falling_slew_rate', 0.1), ('transient_trigger_source', 'BUS'), ('output_trigger_source', 'BUS')]\n",
      "The previous instrument version was:  0.1.0\n",
      "The last tested date could not be found. Check the driver_versions json for this driver.\n",
      "The new test log for this driver is:  Passed with keithley2260b version v0.1.0 tested on pyscan version v0.3.0 at 2024-05-24 13:50:29\n",
      "\u001b[1;32mTests passed, instrument Keithley2260B looks ready to go.\u001b[0m\n"
     ]
    }
   ],
   "source": [
    "test_driver(keithley)"
   ]
  },
  {
   "cell_type": "code",
   "execution_count": null,
   "metadata": {},
   "outputs": [],
   "source": [
    "# need to add __close__ ability to drivers to close connections after use and test for this."
   ]
  }
 ],
 "metadata": {
  "kernelspec": {
   "display_name": "rsbrostenv",
   "language": "python",
   "name": "python3"
  },
  "language_info": {
   "codemirror_mode": {
    "name": "ipython",
    "version": 3
   },
   "file_extension": ".py",
   "mimetype": "text/x-python",
   "name": "python",
   "nbconvert_exporter": "python",
   "pygments_lexer": "ipython3",
   "version": "3.11.5"
  },
  "orig_nbformat": 4
 },
 "nbformat": 4,
 "nbformat_minor": 2
}
