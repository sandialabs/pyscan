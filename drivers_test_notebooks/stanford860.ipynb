{
 "cells": [
  {
   "cell_type": "code",
   "execution_count": null,
   "metadata": {
    "metadata": {}
   },
   "outputs": [],
   "source": [
    "%load_ext autoreload\n",
    "%autoreload 2\n",
    "\n",
    "import pyscan as ps\n",
    "from pyscan.drivers.testing.auto_test_driver_properties import auto_test_driver_properties\n",
    "from pyvisa import ResourceManager, VisaIOError\n",
    "import pytest\n",
    "from time import sleep"
   ]
  },
  {
   "cell_type": "code",
   "execution_count": 2,
   "metadata": {
    "metadata": {}
   },
   "outputs": [
    {
     "name": "stdout",
     "output_type": "stream",
     "text": [
      "GPIB0::4::INSTR Stanford_Research_Systems,SR860,005709,1.55\n",
      "\n"
     ]
    }
   ],
   "source": [
    "rm = ResourceManager()\n",
    "\n",
    "rs = rm.list_resources()\n",
    "# print(rs)\n",
    "for r in rs:\n",
    "    res = rm.open_resource(r)\n",
    "    try:      \n",
    "        name = res.query('*IDN?')\n",
    "        if 'SR860' in name:\n",
    "            print(r, name)\n",
    "            break\n",
    "    except VisaIOError:\n",
    "        pass\n",
    "    res.close()"
   ]
  },
  {
   "cell_type": "code",
   "execution_count": 3,
   "metadata": {
    "metadata": {}
   },
   "outputs": [
    {
     "name": "stdout",
     "output_type": "stream",
     "text": [
      "amplitude\n",
      "voltage_offset\n",
      "auxiliary_output_voltage_1\n",
      "auxiliary_output_voltage_2\n",
      "auxiliary_output_voltage_3\n",
      "auxiliary_output_voltage_4\n",
      "\n",
      "Beginning tests for:  Stanford860  version  0.2.0\n",
      "timebase_mode\n",
      "phase\n",
      "frequency\n",
      "harmonic\n",
      "dual_harmonic\n",
      "chopper_blade_slots\n",
      "chopper_blade_phase\n",
      "dc_out_reference\n",
      "reference_source\n",
      "reference_trigger_mode\n",
      "reference_impedance\n",
      "signal_input\n",
      "Warning, changing signal_input changed signal_strength from 0 to 4\n",
      "voltage_input_mode\n",
      "voltage_input_coupling\n",
      "voltage_input_shield\n",
      "voltage_input_range\n",
      "Warning, changing voltage_input_range changed signal_strength from 0 to 2\n",
      "current_input_impedance\n",
      "voltage_sensitivity\n",
      "time_constant\n",
      "filter_slope\n",
      "synchronous_filter\n",
      "advanced_filter\n",
      "channel_1_output\n",
      "channel_2_output\n",
      "x_expand\n",
      "y_expand\n",
      "r_expand\n",
      "x_offset_state\n",
      "y_offset_state\n",
      "r_offset_state\n",
      "x_offset_percent\n",
      "y_offset_percent\n",
      "r_offset_percent\n",
      "x_ratio_state\n",
      "y_ratio_state\n",
      "r_ratio_state\n",
      "{'id': 'Stanford_Research_Systems,SR860,005709,1.55\\n', 'timebase_mode': 'auto', 'timebase_state': 'external', 'phase': 0.0, 'frequency': 100000.0, 'internal_frequency': 100000.0, 'external_frequency': 0.012201439589, 'detection_frequency': 100000.0, 'harmonic': 1.0, 'dual_harmonic': 1.0, 'chopper_blade_slots': 6, 'chopper_blade_phase': 0.0, 'amplitude': 0.0, 'voltage_offset': 0.0, 'dc_out_reference': 'common', 'reference_source': 'interna', 'reference_trigger_mode': 'sine', 'reference_impedance': 50, 'signal_input': 'voltage', 'voltage_input_mode': 'A', 'voltage_input_coupling': 'ac', 'voltage_input_shield': 'float', 'voltage_input_range': 1, 'current_input_impedance': 1, 'signal_strength': 0, 'voltage_sensitivity': 1, 'time_constant': 0.1, 'filter_slope': 6, 'synchronous_filter': 'off', 'advanced_filter': 'on', 'equivalent_bandwidth': 2.5, 'channel_1_output': 'x', 'channel_2_output': 'y', 'x_expand': 'off', 'y_expand': 'off', 'r_expand': 'off', 'x_offset_state': 'on', 'y_offset_state': 'off', 'r_offset_state': 'off', 'x_offset_percent': 0.0, 'y_offset_percent': 0.0, 'r_offset_percent': 0.0, 'x_ratio_state': 'off', 'y_ratio_state': 'off', 'r_ratio_state': 'off', 'auxiliary_input_voltage_1': -0.00052499771118, 'auxiliary_input_voltage_2': -0.00030255317688, 'auxiliary_input_voltage_3': 0.00036263465881, 'auxiliary_input_voltage_4': -2.0742416382e-05, 'auxiliary_output_voltage_1': 0.0, 'auxiliary_output_voltage_2': 0.0, 'auxiliary_output_voltage_3': 0.0, 'auxiliary_output_voltage_4': 0.0}\n",
      "\n",
      "8 range properties found and tested out of 47 total settings found.\n",
      "0 values properties found and tested out of 47 total settings found.\n",
      "28 indexed values properties found and tested out of 47 total settings found.\n",
      "0 dict values properties found and tested out of 47 total settings found.\n",
      "6 blacklisted settings not testing\n",
      "36 properties tested out of 47 total settings.\n",
      "\u001b[92m Property implementation tests passed, instrument: Stanford860. \u001b[0m\n",
      "Testing driver doc string.\n",
      "\u001b[92m Docstring tests passed. \u001b[0m\n",
      "The new test log for this driver is:  Passed with stanford860 version v0.2.0 tested on pyscan version v0.8.5 at 2024-11-05 11:21:50\n",
      "\u001b[1;32m Stanford860 test results logged. \u001b[0m\n"
     ]
    }
   ],
   "source": [
    "srs860 = ps.Stanford860(res)\n",
    "\n",
    "initial_state_ignore_list = [\n",
    "    'auxiliary_input_voltage_1',\n",
    "    'auxiliary_input_voltage_2',\n",
    "    'auxiliary_input_voltage_3',\n",
    "    'auxiliary_input_voltage_4',\n",
    "    'external_frequency']\n",
    "auto_test_driver_properties(srs860, initial_state_ignore_list=initial_state_ignore_list, verbose=False)\n"
   ]
  },
  {
   "cell_type": "code",
   "execution_count": 4,
   "metadata": {},
   "outputs": [
    {
     "name": "stdout",
     "output_type": "stream",
     "text": [
      "-2.3728938814e-08\n",
      "-1.6870865593e-08\n",
      "2.3174122177e-08\n",
      "29.996479034\n"
     ]
    }
   ],
   "source": [
    "# Test read channels\n",
    "\n",
    "for channel in list(range(1, 5)):\n",
    "    print(srs860.read_channel(channel))"
   ]
  },
  {
   "cell_type": "code",
   "execution_count": 5,
   "metadata": {},
   "outputs": [
    {
     "name": "stdout",
     "output_type": "stream",
     "text": [
      "x 7.5871639638e-08\n",
      "y 8.1871050384e-08\n",
      "r 9.9473901116e-08\n",
      "theta 50.645298004\n",
      "aux_in_1 -0.00066375732422\n",
      "aux_in_2 -0.00033187866211\n",
      "aux_in_3 0.00026321411133\n",
      "aux_in_4 -0.00017166137695\n",
      "x_noise 0.62450659275\n",
      "y_noise 2.8721762646e-05\n",
      "aux_out_1 0.0\n",
      "aux_out_2 0.0\n",
      "phaseamplitude 0.0\n",
      "dc_offset 0.0\n",
      "internal_frequency 0.0\n",
      "external_frequency 100000.0\n"
     ]
    }
   ],
   "source": [
    "# Test read \n",
    "parameters = [\n",
    "    \"x\", \"y\", \"r\", \"theta\", \"aux_in_1\", \"aux_in_2\", \"aux_in_3\", \"aux_in_4\",\n",
    "    \"x_noise\", \"y_noise\", \"aux_out_1\", \"aux_out_2\", \"phase\"\n",
    "    \"amplitude\", \"dc_offset\", \"internal_frequency\", \"external_frequency\"]\n",
    "\n",
    "for param in parameters:\n",
    "    print(param, srs860.read(param))"
   ]
  },
  {
   "cell_type": "code",
   "execution_count": 6,
   "metadata": {},
   "outputs": [
    {
     "name": "stdout",
     "output_type": "stream",
     "text": [
      "[-3.7532835506e-08, -3.7532835506e-08]\n",
      "[-1.5960377908e-08, 4.7653941238e-08]\n",
      "[-2.2005781641e-09, -0.039341922849830825]\n",
      "[1.0529091377e-08, 23.590711594]\n",
      "[1.9856116751e-08, -0.00019454956055]\n",
      "[1.6336024089e-08, 0.00027465820312]\n",
      "[8.8861176195e-09, 0.00013732910156]\n",
      "[-6.583346368e-11, 0.62450659275]\n",
      "[-1.4619821798e-08, 2.8663413104e-05]\n",
      "[-2.5099382128e-08, 0.0]\n",
      "[-3.6038706241e-08, 0.0]\n",
      "[-4.4508222885e-08, 0.0]\n",
      "[-5.2974641562e-08, 0.0]\n",
      "[-4.8823149967e-08, 0.0]\n",
      "[-4.3956823959e-08, 100000.0]\n",
      "[-3.3374426778e-08, 0.022692745551]\n"
     ]
    },
    {
     "data": {
      "text/plain": [
       "[5.8716067564e-09, 5.9340075076e-09, -0.041309018992293715]"
      ]
     },
     "execution_count": 6,
     "metadata": {},
     "output_type": "execute_result"
    }
   ],
   "source": [
    "# Test snap\n",
    "\n",
    "parameters = [\n",
    "    \"x\", \"y\", \"theta\", \"r\", \"aux_in_1\", \"aux_in_2\", \"aux_in_3\", \"aux_in_4\",\n",
    "    \"x_noise\", \"y_noise\", \"aux_out_1\", \"aux_out_2\", \"phase\"\n",
    "    \"amplitude\", \"dc_offset\", \"internal_frequency\", \"external_frequency\"]\n",
    "\n",
    "for param in parameters:\n",
    "    print(srs860.snap('x', param))\n",
    "\n",
    "srs860.snap('x', 'y', 'theta')\n"
   ]
  }
 ],
 "metadata": {
  "kernelspec": {
   "display_name": ".venv",
   "language": "python",
   "name": "python3"
  },
  "language_info": {
   "codemirror_mode": {
    "name": "ipython",
    "version": 3
   },
   "file_extension": ".py",
   "mimetype": "text/x-python",
   "name": "python",
   "nbconvert_exporter": "python",
   "pygments_lexer": "ipython3",
   "version": "3.12.4"
  }
 },
 "nbformat": 4,
 "nbformat_minor": 2
}
