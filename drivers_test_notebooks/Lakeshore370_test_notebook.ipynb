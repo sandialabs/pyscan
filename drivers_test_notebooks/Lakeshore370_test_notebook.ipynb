{
 "cells": [
  {
   "cell_type": "code",
   "execution_count": 1,
   "id": "d9125126-c289-4dac-8ec0-28ebdd209f79",
   "metadata": {},
   "outputs": [
    {
     "name": "stdout",
     "output_type": "stream",
     "text": [
      "Could not load Keysight SD1\n",
      "Could not load Keysight SD1\n",
      "pylablib not found, AttocubeANC350 not loaded\n",
      "Basler Camera software not found, BaserCamera not loaded\n",
      "Helios Camera not installed\n",
      "msl not installed, Thorlabs BSC203 driver not loaded\n",
      "seabreeze module not found, Ocean Optics not imported\n",
      "Failed to load spinapi library.\n",
      "spinapi is not installed, PulseBlaster driver not loaded.\n",
      "Thorlabs Kinesis not found, ThorlabsBSC203 not loaded\n",
      "Thorlabs Kinesis not found, ThorlabsBPC303 not loaded\n",
      "Thorlabs Kinesis not found, ThorlabsMFF101 not loaded\n"
     ]
    }
   ],
   "source": [
    "import pyscan as ps"
   ]
  },
  {
   "cell_type": "code",
   "execution_count": 2,
   "id": "6453337a-d8b6-42b8-97a5-22b07bf6d5e3",
   "metadata": {},
   "outputs": [],
   "source": [
    "l370 = ps.new_instrument(gpib_address=12)"
   ]
  },
  {
   "cell_type": "code",
   "execution_count": 3,
   "id": "212066d9-01e9-4d70-97c8-32a83ebb4bb0",
   "metadata": {},
   "outputs": [],
   "source": [
    "bridge = ps.Lakeshore370(l370)"
   ]
  },
  {
   "cell_type": "code",
   "execution_count": 5,
   "id": "4a5fe511-d1b0-4a6c-85c5-18c929a2e7c2",
   "metadata": {},
   "outputs": [
    {
     "name": "stdout",
     "output_type": "stream",
     "text": [
      "bridge.mode='remote'\n",
      "bridge.control_mode='open loop'\n",
      "bridge.set_point=2.2\n",
      "bridge.heater_range='off'\n",
      "bridge.heater_output=0.0\n"
     ]
    }
   ],
   "source": [
    "# communications\n",
    "print(f'{bridge.mode=}')\n",
    "# control\n",
    "print(f'{bridge.control_mode=}')\n",
    "print(f'{bridge.set_point=}')\n",
    "# heater\n",
    "print(f'{bridge.heater_range=}')\n",
    "print(f'{bridge.heater_output=}')"
   ]
  },
  {
   "cell_type": "code",
   "execution_count": null,
   "id": "43e1d85a-5914-4abc-b201-282063167734",
   "metadata": {},
   "outputs": [],
   "source": []
  }
 ],
 "metadata": {
  "kernelspec": {
   "display_name": "Python 3 (ipykernel)",
   "language": "python",
   "name": "python3"
  },
  "language_info": {
   "codemirror_mode": {
    "name": "ipython",
    "version": 3
   },
   "file_extension": ".py",
   "mimetype": "text/x-python",
   "name": "python",
   "nbconvert_exporter": "python",
   "pygments_lexer": "ipython3",
   "version": "3.11.7"
  }
 },
 "nbformat": 4,
 "nbformat_minor": 5
}
