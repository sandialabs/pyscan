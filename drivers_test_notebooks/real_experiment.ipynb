{
 "cells": [
  {
   "cell_type": "code",
   "execution_count": 1,
   "metadata": {},
   "outputs": [],
   "source": [
    "%load_ext autoreload\n",
    "%autoreload 2\n",
    "\n",
    "import pyscan as ps\n",
    "import numpy as np\n",
    "from pyvisa import ResourceManager, VisaIOError"
   ]
  },
  {
   "cell_type": "code",
   "execution_count": 2,
   "metadata": {},
   "outputs": [],
   "source": [
    "devices = ps.ItemAttribute()\n",
    "\n",
    "\n",
    "rm = ResourceManager()\n",
    "\n",
    "rs = rm.list_resources()\n",
    "# print(rs)\n",
    "for r in rs:\n",
    "    res = rm.open_resource(r)\n",
    "    try:      \n",
    "        name = res.query('*IDN?')\n",
    "        if 'SR830' in name:\n",
    "            devices.lockin = ps.Stanford830(res)\n",
    "        elif 'Keithley Instruments Inc.,Model 2260B' in name:\n",
    "            devices.isource = ps.Keithley2260B(res)\n",
    "    except VisaIOError:\n",
    "        pass\n"
   ]
  },
  {
   "cell_type": "code",
   "execution_count": 5,
   "metadata": {},
   "outputs": [],
   "source": [
    "def measure_function(expt):\n",
    "\n",
    "    d = ps.ItemAttribute()\n",
    "    \n",
    "    d.f = expt.devices.lockin.frequency\n",
    "\n",
    "    return d\n",
    "\n",
    "\n",
    "runinfo = ps.RunInfo()\n",
    "\n",
    "f0 = devices.lockin.frequency\n",
    "\n",
    "runinfo.measure_function = measure_function\n",
    "runinfo.scan0 = ps.PropertyScan({'lockin': np.logspace(1, 3)}, prop='frequency')\n",
    "\n",
    "expt = ps.Experiment(runinfo, devices)\n",
    "expt.run()\n",
    "\n",
    "devices.lockin.frequency = f0"
   ]
  }
 ],
 "metadata": {
  "kernelspec": {
   "display_name": ".venv",
   "language": "python",
   "name": "python3"
  },
  "language_info": {
   "codemirror_mode": {
    "name": "ipython",
    "version": 3
   },
   "file_extension": ".py",
   "mimetype": "text/x-python",
   "name": "python",
   "nbconvert_exporter": "python",
   "pygments_lexer": "ipython3",
   "version": "3.12.4"
  },
  "orig_nbformat": 4
 },
 "nbformat": 4,
 "nbformat_minor": 2
}
