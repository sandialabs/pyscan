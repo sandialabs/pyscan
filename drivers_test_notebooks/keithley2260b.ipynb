{
 "cells": [
  {
   "cell_type": "code",
   "execution_count": 1,
   "metadata": {
    "metadata": {}
   },
   "outputs": [],
   "source": [
    "%load_ext autoreload\n",
    "%autoreload 2\n",
    "\n",
    "import pyscan as ps\n",
    "from pyscan.drivers.testing.auto_test_driver_properties import auto_test_driver_properties\n",
    "from pyvisa import ResourceManager, VisaIOError"
   ]
  },
  {
   "cell_type": "markdown",
   "metadata": {
    "metadata": {}
   },
   "source": [
    "# Connect device"
   ]
  },
  {
   "cell_type": "code",
   "execution_count": 2,
   "metadata": {
    "metadata": {}
   },
   "outputs": [
    {
     "name": "stdout",
     "output_type": "stream",
     "text": [
      "ASRL3::INSTR Keithley Instruments Inc.,Model 2260B-80-27,1403238,01.72.20150702\n",
      "\n"
     ]
    }
   ],
   "source": [
    "rm = ResourceManager()\n",
    "\n",
    "rs = rm.list_resources()\n",
    "# print(rs)\n",
    "for r in rs:\n",
    "    res = rm.open_resource(r)\n",
    "    try:      \n",
    "        name = res.query('*IDN?')\n",
    "        if 'Keithley Instruments Inc.,Model 2260B' in name:\n",
    "            print(r, name)\n",
    "            break\n",
    "    except VisaIOError:\n",
    "        pass\n",
    "    res.close()"
   ]
  },
  {
   "cell_type": "code",
   "execution_count": null,
   "metadata": {},
   "outputs": [],
   "source": [
    "isource = ps.Keithley2260B(res)"
   ]
  },
  {
   "cell_type": "markdown",
   "metadata": {},
   "source": [
    "# Test Properties"
   ]
  },
  {
   "cell_type": "code",
   "execution_count": 13,
   "metadata": {
    "metadata": {}
   },
   "outputs": [
    {
     "name": "stdout",
     "output_type": "stream",
     "text": [
      "current\n",
      "voltage\n",
      "Initial state for the Keithley2260B was: \n",
      "{'current': 0.0,\n",
      " 'current_falling_slew_rate': 0.01,\n",
      " 'current_protection_state': 'off',\n",
      " 'current_rising_slew_rate': 0.01,\n",
      " 'current_trigger_amplitude': 0.0,\n",
      " 'output': 'off',\n",
      " 'output_mode': 'CVHS',\n",
      " 'output_off_delay': 0.0,\n",
      " 'output_on_delay': 0.0,\n",
      " 'output_trigger_source': 'BUS',\n",
      " 'output_trigger_state': 'off',\n",
      " 'over_current_level': 29.7,\n",
      " 'over_voltage_level': 8.0,\n",
      " 'resistance': 0.01,\n",
      " 'transient_trigger_source': 'BUS',\n",
      " 'voltage': 0.0,\n",
      " 'voltage_falling_slew_rate': 0.1,\n",
      " 'voltage_rising_slew_rate': 0.1,\n",
      " 'voltage_trigger_amplitude': 0.0}\n",
      "\n",
      "\n",
      "\n",
      "Beginning tests for:  Keithley2260B  version  0.1.3\n",
      "output_on_delay\n",
      "output_off_delay\n",
      "output_mode\n",
      "output\n",
      "output_trigger_state\n",
      "current_trigger_amplitude\n",
      "over_current_level\n",
      "Warning, changing over_current_level changed current_protection_state from off to on\n",
      "current_protection_state\n",
      "current_rising_slew_rate\n",
      "current_falling_slew_rate\n",
      "resistance\n",
      "voltage_trigger_amplitude\n",
      "over_voltage_level\n",
      "voltage_rising_slew_rate\n",
      "voltage_falling_slew_rate\n",
      "transient_trigger_source\n",
      "output_trigger_source\n",
      "\n",
      "11 range properties found and tested out of 17 total settings found.\n",
      "2 values properties found and tested out of 17 total settings found.\n",
      "4 indexed values properties found and tested out of 17 total settings found.\n",
      "0 dict values properties found and tested out of 17 total settings found.\n",
      "2 blacklisted settings not testing (likely due to interdependencies not suitable for automated testing)\n",
      "17 properties tested out of 17 total settings.\n",
      "\n",
      "Settings restored to: \n",
      "{'current': 0.0,\n",
      " 'current_falling_slew_rate': 0.01,\n",
      " 'current_protection_state': 'off',\n",
      " 'current_rising_slew_rate': 0.01,\n",
      " 'current_trigger_amplitude': 0.0,\n",
      " 'output': 'off',\n",
      " 'output_mode': 'CVHS',\n",
      " 'output_off_delay': 0.0,\n",
      " 'output_on_delay': 0.0,\n",
      " 'output_trigger_source': 'BUS',\n",
      " 'output_trigger_state': 'off',\n",
      " 'over_current_level': 29.7,\n",
      " 'over_voltage_level': 8.0,\n",
      " 'resistance': 0.01,\n",
      " 'transient_trigger_source': 'BUS',\n",
      " 'voltage': 0.0,\n",
      " 'voltage_falling_slew_rate': 0.1,\n",
      " 'voltage_rising_slew_rate': 0.1,\n",
      " 'voltage_trigger_amplitude': 0.0}\n",
      "\u001b[92m Property implementation tests passed, instrument: Keithley2260B. \u001b[0m\n",
      "Testing driver doc string.\n",
      "\u001b[92m Docstring tests passed. \u001b[0m\n",
      "The new test log for this driver is:  Passed with keithley2260b version v0.1.3 tested on pyscan version v0.8.4 at 2024-10-29 09:29:56\n",
      "\u001b[1;32m Keithley2260B test results logged. \u001b[0m\n"
     ]
    }
   ],
   "source": [
    "auto_test_driver_properties(isource)"
   ]
  },
  {
   "cell_type": "code",
   "execution_count": 14,
   "metadata": {
    "metadata": {}
   },
   "outputs": [
    {
     "data": {
      "text/plain": [
       "0.0"
      ]
     },
     "execution_count": 14,
     "metadata": {},
     "output_type": "execute_result"
    }
   ],
   "source": [
    "isource.measure_current()"
   ]
  },
  {
   "cell_type": "code",
   "execution_count": 15,
   "metadata": {
    "metadata": {}
   },
   "outputs": [],
   "source": [
    "# voltage is blacklisted for safety, just try 0 voltage\n",
    "\n",
    "isource.voltage\n",
    "isource.voltage = 0"
   ]
  },
  {
   "cell_type": "code",
   "execution_count": 16,
   "metadata": {
    "metadata": {}
   },
   "outputs": [],
   "source": [
    "# current is blacklisted for safety, just try 0\n",
    "\n",
    "isource.current\n",
    "isource.current = 0"
   ]
  },
  {
   "cell_type": "markdown",
   "metadata": {
    "metadata": {}
   },
   "source": [
    "# Test methods"
   ]
  },
  {
   "cell_type": "code",
   "execution_count": 17,
   "metadata": {
    "metadata": {}
   },
   "outputs": [
    {
     "data": {
      "text/plain": [
       "-0.003"
      ]
     },
     "execution_count": 17,
     "metadata": {},
     "output_type": "execute_result"
    }
   ],
   "source": [
    "isource.measure_voltage()"
   ]
  },
  {
   "cell_type": "code",
   "execution_count": 18,
   "metadata": {
    "metadata": {}
   },
   "outputs": [
    {
     "data": {
      "text/plain": [
       "0.0"
      ]
     },
     "execution_count": 18,
     "metadata": {},
     "output_type": "execute_result"
    }
   ],
   "source": [
    "isource.measure_power()"
   ]
  },
  {
   "cell_type": "code",
   "execution_count": 19,
   "metadata": {
    "metadata": {}
   },
   "outputs": [
    {
     "data": {
      "text/plain": [
       "0.0"
      ]
     },
     "execution_count": 19,
     "metadata": {},
     "output_type": "execute_result"
    }
   ],
   "source": [
    "isource.measure_current()"
   ]
  },
  {
   "cell_type": "markdown",
   "metadata": {},
   "source": [
    "# Close device"
   ]
  },
  {
   "cell_type": "code",
   "execution_count": 20,
   "metadata": {
    "metadata": {}
   },
   "outputs": [],
   "source": [
    "try:\n",
    "    del isource\n",
    "except: \n",
    "    pass"
   ]
  }
 ],
 "metadata": {
  "kernelspec": {
   "display_name": ".venv",
   "language": "python",
   "name": "python3"
  },
  "language_info": {
   "codemirror_mode": {
    "name": "ipython",
    "version": 3
   },
   "file_extension": ".py",
   "mimetype": "text/x-python",
   "name": "python",
   "nbconvert_exporter": "python",
   "pygments_lexer": "ipython3",
   "version": "3.12.4"
  }
 },
 "nbformat": 4,
 "nbformat_minor": 2
}
