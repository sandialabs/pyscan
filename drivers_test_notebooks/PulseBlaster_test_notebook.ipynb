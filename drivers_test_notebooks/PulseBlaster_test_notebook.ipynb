{
 "cells": [
  {
   "cell_type": "code",
   "execution_count": 2,
   "id": "4e5f561b",
   "metadata": {},
   "outputs": [],
   "source": [
    "import pyscan as ps"
   ]
  },
  {
   "cell_type": "code",
   "execution_count": 3,
   "id": "38a8d161",
   "metadata": {},
   "outputs": [],
   "source": [
    "# needed for each program\n",
    "def enum(**enums):\n",
    "    return type('Enum', (), enums)\n",
    "\n",
    "ns = 1\n",
    "us = 1e3\n",
    "ms = 1e6\n",
    "s = 1e9\n",
    "\n",
    "Inst = enum(\n",
    "    CONTINUE=0,\n",
    "    STOP=1,\n",
    "    LOOP=2,\n",
    "    END_LOOP=3,\n",
    "    JSR=4,\n",
    "    RTS=5,\n",
    "    BRANCH=6,\n",
    "    LONG_DELAY=7,\n",
    "    WAIT=8,\n",
    "    RTI=9\n",
    ")"
   ]
  },
  {
   "cell_type": "code",
   "execution_count": 4,
   "id": "6c56ebeb",
   "metadata": {},
   "outputs": [],
   "source": [
    "# call select_board(), init() and core_clock()\n",
    "pb = ps.PulseBlaster(clock=500, board=0, debug=False)"
   ]
  },
  {
   "cell_type": "code",
   "execution_count": 5,
   "id": "d820cf66",
   "metadata": {},
   "outputs": [],
   "source": [
    "# 2**0 + 2**1 + ... + 2**22 + 2**23 = 0xFFFFFF\n",
    "# channels:\n",
    "ch0 = 2**0\n",
    "ch4 = 2**4\n",
    "channels = ch0+ch4"
   ]
  },
  {
   "cell_type": "code",
   "execution_count": 6,
   "id": "1911fa45",
   "metadata": {},
   "outputs": [
    {
     "data": {
      "text/plain": [
       "0"
      ]
     },
     "execution_count": 6,
     "metadata": {},
     "output_type": "execute_result"
    }
   ],
   "source": [
    "pb.start_programming() # start programming program# 0 hardcoded\n",
    "pb.inst(0xFFFFFF, Inst.CONTINUE, 0, 200.0*ms)\n",
    "pb.inst(0x0, Inst.BRANCH, 0, 200.0*ms)\n",
    "pb.stop_programming()"
   ]
  },
  {
   "cell_type": "code",
   "execution_count": 7,
   "id": "93655021",
   "metadata": {},
   "outputs": [
    {
     "data": {
      "text/plain": [
       "0"
      ]
     },
     "execution_count": 7,
     "metadata": {},
     "output_type": "execute_result"
    }
   ],
   "source": [
    "pb.reset()\n",
    "pb.start()"
   ]
  },
  {
   "cell_type": "code",
   "execution_count": 8,
   "id": "df86c01d",
   "metadata": {},
   "outputs": [
    {
     "data": {
      "text/plain": [
       "0"
      ]
     },
     "execution_count": 8,
     "metadata": {},
     "output_type": "execute_result"
    }
   ],
   "source": [
    "pb.stop()\n",
    "pb.close()"
   ]
  }
 ],
 "metadata": {
  "kernelspec": {
   "display_name": "Python 3 (ipykernel)",
   "language": "python",
   "name": "python3"
  },
  "language_info": {
   "codemirror_mode": {
    "name": "ipython",
    "version": 3
   },
   "file_extension": ".py",
   "mimetype": "text/x-python",
   "name": "python",
   "nbconvert_exporter": "python",
   "pygments_lexer": "ipython3",
   "version": "3.11.5"
  }
 },
 "nbformat": 4,
 "nbformat_minor": 5
}
