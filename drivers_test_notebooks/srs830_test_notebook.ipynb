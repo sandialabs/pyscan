{
 "cells": [
  {
   "cell_type": "code",
   "execution_count": 2,
   "metadata": {
    "metadata": {}
   },
   "outputs": [
    {
     "name": "stdout",
     "output_type": "stream",
     "text": [
      "The autoreload extension is already loaded. To reload it, use:\n",
      "  %reload_ext autoreload\n"
     ]
    }
   ],
   "source": [
    "%load_ext autoreload\n",
    "%autoreload 2\n",
    "\n",
    "import pyscan as ps\n",
    "from pyscan.drivers.testing.auto_test_driver import test_driver\n",
    "from pyvisa import ResourceManager, VisaIOError"
   ]
  },
  {
   "cell_type": "code",
   "execution_count": 3,
   "metadata": {
    "metadata": {}
   },
   "outputs": [
    {
     "ename": "VisaIOError",
     "evalue": "VI_ERROR_RSRC_BUSY (-1073807246): The resource is valid, but VISA cannot currently access it.",
     "output_type": "error",
     "traceback": [
      "\u001b[1;31m---------------------------------------------------------------------------\u001b[0m",
      "\u001b[1;31mVisaIOError\u001b[0m                               Traceback (most recent call last)",
      "Cell \u001b[1;32mIn[2], line 6\u001b[0m\n\u001b[0;32m      4\u001b[0m \u001b[38;5;66;03m# print(rs)\u001b[39;00m\n\u001b[0;32m      5\u001b[0m \u001b[38;5;28;01mfor\u001b[39;00m r \u001b[38;5;129;01min\u001b[39;00m rs:\n\u001b[1;32m----> 6\u001b[0m     res \u001b[38;5;241m=\u001b[39m rm\u001b[38;5;241m.\u001b[39mopen_resource(r)\n\u001b[0;32m      7\u001b[0m     \u001b[38;5;28;01mtry\u001b[39;00m:      \n\u001b[0;32m      8\u001b[0m         name \u001b[38;5;241m=\u001b[39m res\u001b[38;5;241m.\u001b[39mquery(\u001b[38;5;124m'\u001b[39m\u001b[38;5;124m*IDN?\u001b[39m\u001b[38;5;124m'\u001b[39m)\n",
      "File \u001b[1;32m~\\AppData\\Roaming\\Python\\Python311\\site-packages\\pyvisa\\highlevel.py:3292\u001b[0m, in \u001b[0;36mResourceManager.open_resource\u001b[1;34m(self, resource_name, access_mode, open_timeout, resource_pyclass, **kwargs)\u001b[0m\n\u001b[0;32m   3286\u001b[0m     \u001b[38;5;28;01mif\u001b[39;00m \u001b[38;5;129;01mnot\u001b[39;00m present:\n\u001b[0;32m   3287\u001b[0m         \u001b[38;5;28;01mraise\u001b[39;00m \u001b[38;5;167;01mValueError\u001b[39;00m(\n\u001b[0;32m   3288\u001b[0m             \u001b[38;5;124m\"\u001b[39m\u001b[38;5;132;01m%r\u001b[39;00m\u001b[38;5;124m is not a valid attribute for type \u001b[39m\u001b[38;5;132;01m%s\u001b[39;00m\u001b[38;5;124m\"\u001b[39m\n\u001b[0;32m   3289\u001b[0m             \u001b[38;5;241m%\u001b[39m (key, res\u001b[38;5;241m.\u001b[39m\u001b[38;5;18m__class__\u001b[39m\u001b[38;5;241m.\u001b[39m\u001b[38;5;18m__name__\u001b[39m)\n\u001b[0;32m   3290\u001b[0m         )\n\u001b[1;32m-> 3292\u001b[0m res\u001b[38;5;241m.\u001b[39mopen(access_mode, open_timeout)\n\u001b[0;32m   3294\u001b[0m \u001b[38;5;28;01mfor\u001b[39;00m key, value \u001b[38;5;129;01min\u001b[39;00m kwargs\u001b[38;5;241m.\u001b[39mitems():\n\u001b[0;32m   3295\u001b[0m     \u001b[38;5;28msetattr\u001b[39m(res, key, value)\n",
      "File \u001b[1;32m~\\AppData\\Roaming\\Python\\Python311\\site-packages\\pyvisa\\resources\\resource.py:281\u001b[0m, in \u001b[0;36mResource.open\u001b[1;34m(self, access_mode, open_timeout)\u001b[0m\n\u001b[0;32m    277\u001b[0m logger\u001b[38;5;241m.\u001b[39mdebug(\u001b[38;5;124m\"\u001b[39m\u001b[38;5;132;01m%s\u001b[39;00m\u001b[38;5;124m - opening ...\u001b[39m\u001b[38;5;124m\"\u001b[39m, \u001b[38;5;28mself\u001b[39m\u001b[38;5;241m.\u001b[39m_resource_name, extra\u001b[38;5;241m=\u001b[39m\u001b[38;5;28mself\u001b[39m\u001b[38;5;241m.\u001b[39m_logging_extra)\n\u001b[0;32m    278\u001b[0m \u001b[38;5;28;01mwith\u001b[39;00m \u001b[38;5;28mself\u001b[39m\u001b[38;5;241m.\u001b[39m_resource_manager\u001b[38;5;241m.\u001b[39mignore_warning(\n\u001b[0;32m    279\u001b[0m     constants\u001b[38;5;241m.\u001b[39mStatusCode\u001b[38;5;241m.\u001b[39msuccess_device_not_present\n\u001b[0;32m    280\u001b[0m ):\n\u001b[1;32m--> 281\u001b[0m     \u001b[38;5;28mself\u001b[39m\u001b[38;5;241m.\u001b[39msession, status \u001b[38;5;241m=\u001b[39m \u001b[38;5;28mself\u001b[39m\u001b[38;5;241m.\u001b[39m_resource_manager\u001b[38;5;241m.\u001b[39mopen_bare_resource(\n\u001b[0;32m    282\u001b[0m         \u001b[38;5;28mself\u001b[39m\u001b[38;5;241m.\u001b[39m_resource_name, access_mode, open_timeout\n\u001b[0;32m    283\u001b[0m     )\n\u001b[0;32m    285\u001b[0m     \u001b[38;5;28;01mif\u001b[39;00m status \u001b[38;5;241m==\u001b[39m constants\u001b[38;5;241m.\u001b[39mStatusCode\u001b[38;5;241m.\u001b[39msuccess_device_not_present:\n\u001b[0;32m    286\u001b[0m         \u001b[38;5;66;03m# The device was not ready when we opened the session.\u001b[39;00m\n\u001b[0;32m    287\u001b[0m         \u001b[38;5;66;03m# Now it gets five seconds more to become ready.\u001b[39;00m\n\u001b[0;32m    288\u001b[0m         \u001b[38;5;66;03m# Every 0.1 seconds we probe it with viClear.\u001b[39;00m\n\u001b[0;32m    289\u001b[0m         start_time \u001b[38;5;241m=\u001b[39m time\u001b[38;5;241m.\u001b[39mtime()\n",
      "File \u001b[1;32m~\\AppData\\Roaming\\Python\\Python311\\site-packages\\pyvisa\\highlevel.py:3217\u001b[0m, in \u001b[0;36mResourceManager.open_bare_resource\u001b[1;34m(self, resource_name, access_mode, open_timeout)\u001b[0m\n\u001b[0;32m   3188\u001b[0m \u001b[38;5;28;01mdef\u001b[39;00m \u001b[38;5;21mopen_bare_resource\u001b[39m(\n\u001b[0;32m   3189\u001b[0m     \u001b[38;5;28mself\u001b[39m,\n\u001b[0;32m   3190\u001b[0m     resource_name: \u001b[38;5;28mstr\u001b[39m,\n\u001b[0;32m   3191\u001b[0m     access_mode: constants\u001b[38;5;241m.\u001b[39mAccessModes \u001b[38;5;241m=\u001b[39m constants\u001b[38;5;241m.\u001b[39mAccessModes\u001b[38;5;241m.\u001b[39mno_lock,\n\u001b[0;32m   3192\u001b[0m     open_timeout: \u001b[38;5;28mint\u001b[39m \u001b[38;5;241m=\u001b[39m constants\u001b[38;5;241m.\u001b[39mVI_TMO_IMMEDIATE,\n\u001b[0;32m   3193\u001b[0m ) \u001b[38;5;241m-\u001b[39m\u001b[38;5;241m>\u001b[39m Tuple[VISASession, StatusCode]:\n\u001b[0;32m   3194\u001b[0m \u001b[38;5;250m    \u001b[39m\u001b[38;5;124;03m\"\"\"Open the specified resource without wrapping into a class.\u001b[39;00m\n\u001b[0;32m   3195\u001b[0m \n\u001b[0;32m   3196\u001b[0m \u001b[38;5;124;03m    Parameters\u001b[39;00m\n\u001b[1;32m   (...)\u001b[0m\n\u001b[0;32m   3215\u001b[0m \n\u001b[0;32m   3216\u001b[0m \u001b[38;5;124;03m    \"\"\"\u001b[39;00m\n\u001b[1;32m-> 3217\u001b[0m     \u001b[38;5;28;01mreturn\u001b[39;00m \u001b[38;5;28mself\u001b[39m\u001b[38;5;241m.\u001b[39mvisalib\u001b[38;5;241m.\u001b[39mopen(\u001b[38;5;28mself\u001b[39m\u001b[38;5;241m.\u001b[39msession, resource_name, access_mode, open_timeout)\n",
      "File \u001b[1;32m~\\AppData\\Roaming\\Python\\Python311\\site-packages\\pyvisa\\ctwrapper\\functions.py:1850\u001b[0m, in \u001b[0;36mopen\u001b[1;34m(library, session, resource_name, access_mode, open_timeout)\u001b[0m\n\u001b[0;32m   1846\u001b[0m out_session \u001b[38;5;241m=\u001b[39m ViSession()\n\u001b[0;32m   1848\u001b[0m \u001b[38;5;66;03m# [ViSession, ViRsrc, ViAccessMode, ViUInt32, ViPSession]\u001b[39;00m\n\u001b[0;32m   1849\u001b[0m \u001b[38;5;66;03m# ViRsrc converts from (str, unicode, bytes) to bytes\u001b[39;00m\n\u001b[1;32m-> 1850\u001b[0m ret \u001b[38;5;241m=\u001b[39m library\u001b[38;5;241m.\u001b[39mviOpen(\n\u001b[0;32m   1851\u001b[0m     session, resource_name, access_mode, open_timeout, byref(out_session)\n\u001b[0;32m   1852\u001b[0m )\n\u001b[0;32m   1853\u001b[0m \u001b[38;5;28;01mreturn\u001b[39;00m out_session\u001b[38;5;241m.\u001b[39mvalue, ret\n",
      "File \u001b[1;32m~\\AppData\\Roaming\\Python\\Python311\\site-packages\\pyvisa\\ctwrapper\\highlevel.py:226\u001b[0m, in \u001b[0;36mIVIVisaLibrary._return_handler\u001b[1;34m(self, ret_value, func, arguments)\u001b[0m\n\u001b[0;32m    223\u001b[0m         \u001b[38;5;66;03m# Set session back to a safe value\u001b[39;00m\n\u001b[0;32m    224\u001b[0m         session \u001b[38;5;241m=\u001b[39m \u001b[38;5;28;01mNone\u001b[39;00m\n\u001b[1;32m--> 226\u001b[0m \u001b[38;5;28;01mreturn\u001b[39;00m \u001b[38;5;28mself\u001b[39m\u001b[38;5;241m.\u001b[39mhandle_return_value(session, ret_value)\n",
      "File \u001b[1;32m~\\AppData\\Roaming\\Python\\Python311\\site-packages\\pyvisa\\highlevel.py:251\u001b[0m, in \u001b[0;36mVisaLibraryBase.handle_return_value\u001b[1;34m(self, session, status_code)\u001b[0m\n\u001b[0;32m    248\u001b[0m     \u001b[38;5;28mself\u001b[39m\u001b[38;5;241m.\u001b[39m_last_status_in_session[session] \u001b[38;5;241m=\u001b[39m rv\n\u001b[0;32m    250\u001b[0m \u001b[38;5;28;01mif\u001b[39;00m rv \u001b[38;5;241m<\u001b[39m \u001b[38;5;241m0\u001b[39m:\n\u001b[1;32m--> 251\u001b[0m     \u001b[38;5;28;01mraise\u001b[39;00m errors\u001b[38;5;241m.\u001b[39mVisaIOError(rv)\n\u001b[0;32m    253\u001b[0m \u001b[38;5;28;01mif\u001b[39;00m rv \u001b[38;5;129;01min\u001b[39;00m \u001b[38;5;28mself\u001b[39m\u001b[38;5;241m.\u001b[39missue_warning_on:\n\u001b[0;32m    254\u001b[0m     \u001b[38;5;28;01mif\u001b[39;00m session \u001b[38;5;129;01mand\u001b[39;00m rv \u001b[38;5;129;01mnot\u001b[39;00m \u001b[38;5;129;01min\u001b[39;00m \u001b[38;5;28mself\u001b[39m\u001b[38;5;241m.\u001b[39m_ignore_warning_in_session[session]:\n",
      "\u001b[1;31mVisaIOError\u001b[0m: VI_ERROR_RSRC_BUSY (-1073807246): The resource is valid, but VISA cannot currently access it."
     ]
    }
   ],
   "source": [
    "rm = ResourceManager()\n",
    "\n",
    "rs = rm.list_resources()\n",
    "# print(rs)\n",
    "for r in rs:\n",
    "    res = rm.open_resource(r)\n",
    "    try:      \n",
    "        name = res.query('*IDN?')\n",
    "        if 'SR830' in name:\n",
    "            print(r, name)\n",
    "            break\n",
    "    except VisaIOError:\n",
    "        pass\n",
    "    res.close()"
   ]
  },
  {
   "cell_type": "code",
   "execution_count": 4,
   "metadata": {
    "metadata": {}
   },
   "outputs": [
    {
     "data": {
      "text/plain": [
       "'Stanford_Research_Systems,SR830,s/n86813,ver1.07 \\n'"
      ]
     },
     "execution_count": 4,
     "metadata": {},
     "output_type": "execute_result"
    }
   ],
   "source": [
    "name"
   ]
  },
  {
   "cell_type": "code",
   "execution_count": 5,
   "metadata": {
    "metadata": {}
   },
   "outputs": [
    {
     "name": "stdout",
     "output_type": "stream",
     "text": [
      "Initial state for the Stanford830 was: [('phase', 180.0), ('reference_source', 'external'), ('frequency', 1000.0), ('reference_slope', 'sine zero'), ('harmonic', 1), ('amplitude', 0.984), ('input_configuration', 'A-B'), ('input_ground', 'AC'), ('input_coupling', 'AC'), ('input_line_filter', 'none'), ('sensitivity', 0.01), ('reserve_mode', 'high'), ('time_constant', 30), ('filter_slope', 6), ('synchronous_filter', 'off'), ('sample_rate', 0.25), ('end_buffer_mode', 'one shot'), ('trigger_mode', 'on')]\n",
      "These blacklisted settings and their corresponding values were not reset:  [('_input_configuration', 'A-B'), ('_time_constant', 30), ('_sample_rate', 0.25)]\n",
      "Reset state for the Stanford830 was: [('phase', 180.0), ('reference_source', 'external'), ('frequency', 1000.0), ('reference_slope', 'sine zero'), ('harmonic', 1), ('amplitude', 0.984), ('input_configuration', 'A-B'), ('input_ground', 'AC'), ('input_coupling', 'AC'), ('input_line_filter', 'none'), ('sensitivity', 0.01), ('reserve_mode', 'high'), ('time_constant', 30), ('filter_slope', 6), ('synchronous_filter', 'off'), ('sample_rate', 0.25), ('end_buffer_mode', 'one shot'), ('trigger_mode', 'on')]\n",
      "Beginning tests for:  Stanford830\n",
      "4 range properties found and tested out of 18 total settings found.\n",
      "0 values properties found and tested out of 18 total settings found.\n",
      "9 indexed values properties found and tested out of 18 total settings found.\n",
      "2 dict values properties found and tested out of 18 total settings found.\n",
      "3 blacklisted settings not testing (likely due to interdependencies not suitable for automated testing)\n",
      "15 properties tested out of 18 total settings.\n",
      "Settings restored to: [('phase', 180.0), ('reference_source', 'external'), ('frequency', 1000.0), ('reference_slope', 'sine zero'), ('harmonic', 1), ('amplitude', 0.984), ('input_configuration', 'A-B'), ('input_ground', 'AC'), ('input_coupling', 'AC'), ('input_line_filter', 'none'), ('sensitivity', 0.01), ('reserve_mode', 'high'), ('time_constant', 30), ('filter_slope', 6), ('synchronous_filter', 'off'), ('sample_rate', 0.25), ('end_buffer_mode', 'one shot'), ('trigger_mode', 'on')]\n",
      "Tests passed, instrument Stanford830 should be ready to go.\n"
     ]
    }
   ],
   "source": [
    "srs830 = ps.Stanford830(res)\n",
    "\n",
    "test_driver(srs830)"
   ]
  },
  {
   "cell_type": "code",
   "execution_count": 21,
   "metadata": {
    "metadata": {}
   },
   "outputs": [
    {
     "name": "stdout",
     "output_type": "stream",
     "text": [
      "('r', 'aux1')\n",
      "('x', 'none')\n",
      "Sucessfully failed setting channel 1 to y\n",
      "('theta', 'aux3')\n",
      "('y', 'none')\n",
      "Sucessfully failed setting channel 2 to x\n"
     ]
    }
   ],
   "source": [
    "# Test get and set display\n",
    "\n",
    "srs830.set_display(1, 'r', 'aux1')\n",
    "print(srs830.get_display(1))\n",
    "srs830.set_display(1, 'x', 'none')\n",
    "print(srs830.get_display(1))\n",
    "try:\n",
    "    srs830.set_display(1, 'y', 'none')\n",
    "except AssertionError:\n",
    "    print('Sucessfully failed setting channel 1 to y')\n",
    "srs830.set_display(2, 'theta', 'aux3')\n",
    "print(srs830.get_display(2))\n",
    "srs830.set_display(2, 'y', 'none')\n",
    "print(srs830.get_display(2))\n",
    "try:\n",
    "    srs830.set_display(2, 'x', 'none')\n",
    "except AssertionError:\n",
    "    print('Sucessfully failed setting channel 2 to x')"
   ]
  },
  {
   "cell_type": "code",
   "execution_count": 23,
   "metadata": {
    "metadata": {}
   },
   "outputs": [
    {
     "name": "stdout",
     "output_type": "stream",
     "text": [
      "(100.0, 1)\n",
      "(0.0, 0)\n"
     ]
    }
   ],
   "source": [
    "# Test get and set offset and expand\n",
    "\n",
    "srs830.set_channel_offset_expand(1, 100, 10)\n",
    "print(srs830.get_channel_offset_expand(1))\n",
    "srs830.set_channel_offset_expand(1, 0, 1)\n",
    "print(srs830.get_channel_offset_expand(1))\n"
   ]
  },
  {
   "cell_type": "code",
   "execution_count": 68,
   "metadata": {},
   "outputs": [
    {
     "name": "stdout",
     "output_type": "stream",
     "text": [
      "0.00384523 6.10356e-05\n",
      "-0.0144044 -0.000183106\n",
      "0.0 0.0\n"
     ]
    }
   ],
   "source": [
    "# Test auto offset\n",
    "# First number should be some value, second number should be close to 0\n",
    "srs830.set_channel_offset_expand(1, 0, 1)\n",
    "v0 = srs830.read('x')\n",
    "srs830.auto_offset('x')\n",
    "v_offset = srs830.read('x')\n",
    "print(v0, v_offset)\n",
    "srs830.set_channel_offset_expand(1, 0, 1)\n",
    "\n",
    "\n",
    "srs830.set_channel_offset_expand(2, 0, 1)\n",
    "v0 = srs830.read('y')\n",
    "srs830.auto_offset('y')\n",
    "v_offset = srs830.read('y')\n",
    "print(v0, v_offset)\n",
    "srs830.set_channel_offset_expand(2, 0, 1)\n",
    "\n",
    "srs830.set_channel_offset_expand(1, 0, 1)\n",
    "v0 = srs830.read('r')\n",
    "srs830.auto_offset('r')\n",
    "v_offset = srs830.read('r')\n",
    "print(v0, v_offset)\n",
    "srs830.set_display(1, 'r', 'none')\n",
    "srs830.set_channel_offset_expand(1, 0, 1)\n",
    "srs830.set_display(1, 'x', 'none')\n"
   ]
  },
  {
   "cell_type": "code",
   "execution_count": 33,
   "metadata": {},
   "outputs": [
    {
     "name": "stdout",
     "output_type": "stream",
     "text": [
      "0.00366667\n",
      "0.00266667\n",
      "0.00433333\n",
      "0.00266667\n"
     ]
    }
   ],
   "source": [
    "# Test read aux inputs\n",
    "# shoudl show some random small value\n",
    "for i in range(1, 5):\n",
    "    print(srs830.read_aux_input(i))"
   ]
  },
  {
   "cell_type": "code",
   "execution_count": 36,
   "metadata": {},
   "outputs": [
    {
     "name": "stdout",
     "output_type": "stream",
     "text": [
      "0.00384523\n",
      "-0.0144044\n",
      "0.0\n",
      "-74.97\n"
     ]
    }
   ],
   "source": [
    "# Read x, y, r, theta\n",
    "\n",
    "print(srs830.read('x'))\n",
    "print(srs830.read('y'))\n",
    "print(srs830.read('r'))\n",
    "print(srs830.read('theta'))"
   ]
  },
  {
   "cell_type": "code",
   "execution_count": 42,
   "metadata": {},
   "outputs": [
    {
     "name": "stdout",
     "output_type": "stream",
     "text": [
      "0.00384523\n",
      "-0.0144044\n"
     ]
    }
   ],
   "source": [
    "# Read display\n",
    "\n",
    "for i in range(1, 3):\n",
    "    print(srs830.read_display(i))"
   ]
  },
  {
   "cell_type": "code",
   "execution_count": 64,
   "metadata": {},
   "outputs": [
    {
     "name": "stdout",
     "output_type": "stream",
     "text": [
      "[0.00384523, -0.0144044]\n",
      "[0.00384523, 0.0]\n",
      "[0.00384523, -74.97]\n",
      "[0.00384523, 0.000666667]\n",
      "[0.00384523, 0.004]\n",
      "[0.00384523, -0.00633333]\n",
      "[0.00384523, 0.000666667]\n",
      "[0.00384523, 1000.0]\n",
      "[0.00384523, 0.00384523]\n",
      "[0.00384523, -0.0144044]\n",
      "Couldnt snap 7 entries\n"
     ]
    }
   ],
   "source": [
    "# Test snap\n",
    "\n",
    "for source in ['y', 'r', 'theta', 'aux1', 'aux2', 'aux3',\n",
    "                  'aux4', 'frequency', 'display1', 'display2']:\n",
    "    print(srs830.snap('x', source))\n",
    "\n",
    "srs830.snap('x', 'y', 'r', 'theta', 'frequency', 'display1')\n",
    "\n",
    "try:\n",
    "    srs830.snap('x', 'y', 'r', 'theta', 'frequency', 'display1', 'display2')\n",
    "except:\n",
    "    print('Couldnt snap 7 entries')"
   ]
  },
  {
   "cell_type": "code",
   "execution_count": 67,
   "metadata": {},
   "outputs": [
    {
     "data": {
      "text/plain": [
       "'Stanford_Research_Systems,SR830,s/n86813,ver1.07 '"
      ]
     },
     "execution_count": 67,
     "metadata": {},
     "output_type": "execute_result"
    }
   ],
   "source": [
    "# test get ID\n",
    "\n",
    "srs830.get_identificaiton_string()"
   ]
  },
  {
   "cell_type": "code",
   "execution_count": 95,
   "metadata": {},
   "outputs": [
    {
     "data": {
      "text/plain": [
       "5"
      ]
     },
     "execution_count": 95,
     "metadata": {},
     "output_type": "execute_result"
    }
   ],
   "source": [
    "# test buffer_points\n",
    "\n",
    "srs830.buffer_points\n",
    "srs830.wait_for_trigger()\n",
    "srs830.set_buffer_mode(0.25)\n",
    "srs830.wait_for_trigger()\n",
    "# srs830.start()\n",
    "srs830.trigger()\n",
    "sleep(20)\n",
    "srs830.buffer_points\n"
   ]
  },
  {
   "cell_type": "code",
   "execution_count": 91,
   "metadata": {},
   "outputs": [
    {
     "data": {
      "text/plain": [
       "'0\\n'"
      ]
     },
     "execution_count": 91,
     "metadata": {},
     "output_type": "execute_result"
    }
   ],
   "source": [
    "srs830.query('SRAT?')"
   ]
  },
  {
   "cell_type": "code",
   "execution_count": 92,
   "metadata": {},
   "outputs": [
    {
     "data": {
      "text/plain": [
       "0.0625"
      ]
     },
     "execution_count": 92,
     "metadata": {},
     "output_type": "execute_result"
    }
   ],
   "source": [
    "srs830.sample_rate"
   ]
  },
  {
   "cell_type": "code",
   "execution_count": null,
   "metadata": {},
   "outputs": [],
   "source": []
  }
 ],
 "metadata": {
  "kernelspec": {
   "display_name": "base",
   "language": "python",
   "name": "python3"
  },
  "language_info": {
   "codemirror_mode": {
    "name": "ipython",
    "version": 3
   },
   "file_extension": ".py",
   "mimetype": "text/x-python",
   "name": "python",
   "nbconvert_exporter": "python",
   "pygments_lexer": "ipython3",
   "version": "3.11.5"
  }
 },
 "nbformat": 4,
 "nbformat_minor": 2
}
