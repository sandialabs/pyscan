{
 "cells": [
  {
   "cell_type": "code",
   "execution_count": 1,
   "metadata": {
    "metadata": {}
   },
   "outputs": [],
   "source": [
    "%load_ext autoreload\n",
    "%autoreload 2\n",
    "\n",
    "import pyscan as ps\n",
    "from pyscan.drivers.testing.auto_test_driver_properties import auto_test_driver_properties\n",
    "from pyvisa import ResourceManager, VisaIOError\n",
    "import pytest\n",
    "from time import sleep"
   ]
  },
  {
   "cell_type": "code",
   "execution_count": 2,
   "metadata": {
    "metadata": {}
   },
   "outputs": [
    {
     "name": "stdout",
     "output_type": "stream",
     "text": [
      "GPIB0::8::INSTR Stanford_Research_Systems,SR830,s/n86813,ver1.07 \n",
      "\n"
     ]
    }
   ],
   "source": [
    "rm = ResourceManager()\n",
    "\n",
    "rs = rm.list_resources()\n",
    "# print(rs)\n",
    "for r in rs:\n",
    "    res = rm.open_resource(r)\n",
    "    try:      \n",
    "        name = res.query('*IDN?')\n",
    "        if 'SR830' in name:\n",
    "            print(r, name)\n",
    "            break\n",
    "    except VisaIOError:\n",
    "        pass\n",
    "    res.close()"
   ]
  },
  {
   "cell_type": "code",
   "execution_count": 17,
   "metadata": {
    "metadata": {}
   },
   "outputs": [
    {
     "name": "stdout",
     "output_type": "stream",
     "text": [
      "input_configuration\n",
      "time_constant\n",
      "amplitude\n",
      "sensitivity\n",
      "\n",
      "Beginning tests for:  Stanford830  version  1.0.3\n",
      "phase\n",
      "reference_source\n",
      "frequency\n",
      "reference_slope\n",
      "harmonic\n",
      "input_ground\n",
      "input_coupling\n",
      "input_line_filter\n",
      "reserve_mode\n",
      "filter_slope\n",
      "synchronous_filter\n",
      "display1_output_source\n",
      "display2_output_source\n",
      "auxiliary_voltage1\n",
      "auxiliary_voltage2\n",
      "auxiliary_voltage3\n",
      "auxiliary_voltage4\n",
      "sample_rate\n",
      "end_buffer_mode\n",
      "trigger_mode\n",
      "\n",
      "7 range properties found and tested out of 22 total settings found.\n",
      "0 values properties found and tested out of 22 total settings found.\n",
      "13 indexed values properties found and tested out of 22 total settings found.\n",
      "0 dict values properties found and tested out of 22 total settings found.\n",
      "4 blacklisted settings not testing (likely due to interdependencies not suitable for automated testing)\n",
      "20 properties tested out of 22 total settings.\n",
      "\u001b[92m Property implementation tests passed, instrument: Stanford830. \u001b[0m\n",
      "Testing driver doc string.\n",
      "\u001b[92m Docstring tests passed. \u001b[0m\n",
      "The new test log for this driver is:  Passed with stanford830 version v1.0.3 tested on pyscan version v0.8.4 at 2024-10-29 09:11:35\n",
      "\u001b[1;32m Stanford830 test results logged. \u001b[0m\n"
     ]
    }
   ],
   "source": [
    "srs830 = ps.Stanford830(res)\n",
    "auto_test_driver_properties(srs830, verbose=False)"
   ]
  },
  {
   "cell_type": "code",
   "execution_count": 18,
   "metadata": {
    "metadata": {}
   },
   "outputs": [
    {
     "name": "stdout",
     "output_type": "stream",
     "text": [
      "Sucessfully failed setting channel 1 to y\n",
      "Sucessfully failed setting channel 2 to x\n",
      "Successfully tested get and set display\n"
     ]
    }
   ],
   "source": [
    "# Test get and set display\n",
    "\n",
    "srs830.set_display(1, 'r', 'aux1') # number, source, ratio\n",
    "source, ratio = srs830.get_display(1)\n",
    "assert source == 'r'\n",
    "assert ratio == 'aux1'\n",
    "\n",
    "\n",
    "srs830.set_display(1, 'x', 'none')\n",
    "source, ratio = srs830.get_display(1)\n",
    "assert source == 'x'\n",
    "assert ratio == 'none'\n",
    "\n",
    "\n",
    "with pytest.raises(AssertionError):\n",
    "    srs830.set_display(1, 'y', 'none')\n",
    "print('Sucessfully failed setting channel 1 to y')\n",
    "    \n",
    "    \n",
    "srs830.set_display(2, 'theta', 'aux3')\n",
    "source, ratio = srs830.get_display(2)\n",
    "assert source == 'theta'\n",
    "assert ratio == 'aux3'\n",
    "\n",
    "\n",
    "srs830.set_display(2, 'y', 'none')\n",
    "source, ratio = srs830.get_display(2)\n",
    "assert source == 'y'\n",
    "assert ratio == 'none'\n",
    "\n",
    "\n",
    "with pytest.raises(AssertionError):\n",
    "    srs830.set_display(2, 'x', 'none')\n",
    "print('Sucessfully failed setting channel 2 to x')\n",
    "\n",
    "print(\"Successfully tested get and set display\")\n"
   ]
  },
  {
   "cell_type": "code",
   "execution_count": 19,
   "metadata": {
    "metadata": {}
   },
   "outputs": [
    {
     "name": "stdout",
     "output_type": "stream",
     "text": [
      "['100', '1']\n",
      "['0', '0']\n"
     ]
    }
   ],
   "source": [
    "# Test get and set offset and expand\n",
    "\n",
    "srs830.set_channel_offset_expand(1, 100, 10)\n",
    "print(srs830.get_channel_offset_expand(1))\n",
    "\n",
    "srs830.set_channel_offset_expand(1, 0, 1)\n",
    "print(srs830.get_channel_offset_expand(1))\n"
   ]
  },
  {
   "cell_type": "code",
   "execution_count": 20,
   "metadata": {},
   "outputs": [
    {
     "name": "stdout",
     "output_type": "stream",
     "text": [
      "-0.000105858 -7.15259e-07\n",
      "0.000421764 4.76841e-07\n",
      "3.88625e-05 0.0\n"
     ]
    }
   ],
   "source": [
    "# Test auto offset\n",
    "# v0 should be some value, v_offset should be close to 0\n",
    "srs830.set_channel_offset_expand(1, 0, 1)\n",
    "v0 = srs830.read('x')\n",
    "srs830.auto_offset('x')\n",
    "v_offset = srs830.read('x')\n",
    "print(v0, v_offset)\n",
    "assert abs(v_offset - 0) < 0.0001\n",
    "\n",
    "\n",
    "srs830.set_channel_offset_expand(2, 0, 1)\n",
    "v0 = srs830.read('y')\n",
    "srs830.auto_offset('y')\n",
    "v_offset = srs830.read('y')\n",
    "print(v0, v_offset)\n",
    "assert abs(v_offset - 0) < 0.0001\n",
    "\n",
    "srs830.set_channel_offset_expand(1, 0, 1)\n",
    "v0 = srs830.read('r')\n",
    "srs830.auto_offset('r')\n",
    "v_offset = srs830.read('r')\n",
    "print(v0, v_offset)\n",
    "assert abs(v_offset - 0) < 0.0001\n",
    "\n",
    "\n",
    "srs830.set_channel_offset_expand(1, 0, 1)\n",
    "srs830.set_display(1, 'x', 'none')\n",
    "\n",
    "srs830.set_channel_offset_expand(2, 0, 1)\n",
    "srs830.set_display(2, 'y', 'none')\n"
   ]
  },
  {
   "cell_type": "code",
   "execution_count": 21,
   "metadata": {},
   "outputs": [
    {
     "name": "stdout",
     "output_type": "stream",
     "text": [
      "0.002\n",
      "0.001\n",
      "0.00166667\n",
      "0.000666667\n"
     ]
    }
   ],
   "source": [
    "# Test read aux inputs\n",
    "# shoudl show some random small value\n",
    "for i in range(1, 5):\n",
    "    aux_input = srs830.read_aux_input(i)\n",
    "    print(aux_input)\n",
    "    assert abs(aux_input - 0) < 0.1"
   ]
  },
  {
   "cell_type": "code",
   "execution_count": 22,
   "metadata": {},
   "outputs": [
    {
     "name": "stdout",
     "output_type": "stream",
     "text": [
      "-0.000106097\n",
      "0.000421764\n",
      "-4.76841e-07\n",
      "5962.089260533679\n"
     ]
    }
   ],
   "source": [
    "# Read x, y, r, theta\n",
    "\n",
    "print(srs830.read('x'))\n",
    "print(srs830.read('y'))\n",
    "print(srs830.read('r'))\n",
    "print(srs830.read('theta'))"
   ]
  },
  {
   "cell_type": "code",
   "execution_count": 23,
   "metadata": {},
   "outputs": [
    {
     "name": "stdout",
     "output_type": "stream",
     "text": [
      "-0.000105858\n",
      "0.000421526\n"
     ]
    }
   ],
   "source": [
    "# Read display\n",
    "\n",
    "for i in range(1, 3):\n",
    "    print(srs830.read_display(i))"
   ]
  },
  {
   "cell_type": "code",
   "execution_count": 24,
   "metadata": {},
   "outputs": [
    {
     "name": "stdout",
     "output_type": "stream",
     "text": [
      "[-0.000105858, 0.000421287]\n",
      "[-0.000105858, -2.3842e-07]\n",
      "[-0.000105858, 5963.46436040349]\n",
      "[-0.000105858, 0.002]\n",
      "[-0.000105858, 0.004]\n",
      "[-0.000105858, 0.00433333]\n",
      "[-0.000105858, 0.00433333]\n",
      "[-0.000106097, 1000.0]\n",
      "[-0.000106097, -0.000106097]\n",
      "[-0.000105858, 0.000421287]\n"
     ]
    }
   ],
   "source": [
    "# Test snap\n",
    "\n",
    "for source in ['y', 'r', 'theta', 'aux1', 'aux2', 'aux3',\n",
    "                  'aux4', 'frequency', 'display1', 'display2']:\n",
    "    print(srs830.snap('x', source))\n",
    "\n",
    "srs830.snap('x', 'y', 'r', 'theta', 'frequency', 'display1')\n",
    "\n",
    "\n",
    "with pytest.raises(AssertionError):\n",
    "    srs830.snap('x', 'y', 'r', 'theta', 'frequency', 'display1', 'display2')\n",
    "    # snap only accepts 6 entries"
   ]
  },
  {
   "cell_type": "code",
   "execution_count": 25,
   "metadata": {},
   "outputs": [
    {
     "name": "stdout",
     "output_type": "stream",
     "text": [
      "Stanford_Research_Systems,SR830,s/n86813,ver1.07 \n"
     ]
    }
   ],
   "source": [
    "# test get ID\n",
    "\n",
    "id = srs830.get_identificaiton_string()\n",
    "assert 'Stanford_Research_Systems,SR830' in id\n",
    "print(id)"
   ]
  },
  {
   "cell_type": "code",
   "execution_count": 26,
   "metadata": {},
   "outputs": [
    {
     "name": "stdout",
     "output_type": "stream",
     "text": [
      "159\n"
     ]
    }
   ],
   "source": [
    "# test buffer_points\n",
    "\n",
    "srs830.buffer_points\n",
    "srs830.wait_for_trigger()\n",
    "srs830.set_buffer_mode(8)\n",
    "srs830.wait_for_trigger()\n",
    "# srs830.start()\n",
    "srs830.trigger()\n",
    "sleep(20)\n",
    "srs830.buffer_points\n",
    "srs830.pause()\n",
    "print(srs830.buffer_points)"
   ]
  }
 ],
 "metadata": {
  "kernelspec": {
   "display_name": ".venv",
   "language": "python",
   "name": "python3"
  },
  "language_info": {
   "codemirror_mode": {
    "name": "ipython",
    "version": 3
   },
   "file_extension": ".py",
   "mimetype": "text/x-python",
   "name": "python",
   "nbconvert_exporter": "python",
   "pygments_lexer": "ipython3",
   "version": "3.12.4"
  }
 },
 "nbformat": 4,
 "nbformat_minor": 2
}
