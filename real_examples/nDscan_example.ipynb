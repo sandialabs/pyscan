{
 "cells": [
  {
   "cell_type": "markdown",
   "id": "5fcf5099-105d-4f99-a447-e600a24a0fee",
   "metadata": {},
   "source": [
    "# Pyscan example with nD-gate control\n",
    "## Erin Morissette, Brown University\n",
    "### May 2024\n",
    "\n",
    "This is a notebook that demonstrates how to perform an n-D scan where n and D are linear combinations of voltages from top and bottom gates for a stacked graphene device. We make measurements from 5 separate lock-ins and also include experiment checks so we don't go out of bounds to unsafe (for device) operating conditions"
   ]
  },
  {
   "cell_type": "markdown",
   "id": "ba1481d6-27e7-4c39-95e0-9872d515e9a6",
   "metadata": {},
   "source": [
    "# Setup"
   ]
  },
  {
   "cell_type": "code",
   "execution_count": null,
   "id": "d5c9fed5-29da-489e-9602-2e06b8c06504",
   "metadata": {},
   "outputs": [],
   "source": [
    "import sys\n",
    "\n",
    "%reload_ext autoreload\n",
    "%autoreload 2\n",
    "\n",
    "import matplotlib.pyplot as plt\n",
    "import numpy as np\n",
    "from time import sleep\n",
    "from IPython import display\n",
    "import pandas as pd\n",
    "import matplotlib\n",
    "\n",
    "%matplotlib inline\n",
    "matplotlib.rcParams['figure.figsize'] = (7,5)\n",
    "matplotlib.rcParams['font.size'] = 16\n",
    "import pyscan as ps\n",
    "\n",
    "from datetime import datetime\n",
    "import pickle\n",
    "\n",
    "from scipy.interpolate import interp1d"
   ]
  },
  {
   "cell_type": "markdown",
   "id": "e90b7680-d67d-43c5-80eb-6ba6a1a45f96",
   "metadata": {},
   "source": [
    "## Instruments/Devices"
   ]
  },
  {
   "cell_type": "code",
   "execution_count": null,
   "id": "d1040a4d-cd04-428d-ad54-fe96c3b25bb6",
   "metadata": {},
   "outputs": [],
   "source": [
    "# Make a list of instruments\n",
    "inst = ps.ItemAttribute()\n",
    "\n",
    "inst.srs1 = ps.new_instrument(gpib_address=5)\n",
    "inst.srs2 = ps.new_instrument(gpib_address=6)\n",
    "inst.srs3 = ps.new_instrument(gpib_address=7)\n",
    "inst.srs4 = ps.new_instrument(gpib_address=8)\n",
    "inst.srs5 = ps.new_instrument(gpib_address=4)\n",
    "\n",
    "inst.yoko17 = ps.new_instrument(gpib_address=17)\n",
    "inst.yoko18 = ps.new_instrument(gpib_address=18)\n",
    "# # inst.yoko19 = ps.new_instrument(gpib_address=19)\n",
    "\n",
    "inst.keith24 = ps.new_instrument(gpib_address=24)\n",
    "\n",
    "inst.ami = ps.new_instrument(visa_string = 'COM5', baud_rate = 115200)\n"
   ]
  },
  {
   "cell_type": "code",
   "execution_count": null,
   "id": "78eb27d4-422b-4bdb-a151-9a66a71677a7",
   "metadata": {},
   "outputs": [],
   "source": [
    "# Assign drivers via devices\n",
    "devices = ps.ItemAttribute()\n",
    "\n",
    "devices.srs1 = ps.Stanford830(inst.srs1)\n",
    "devices.srs2 = ps.Stanford830(inst.srs2)\n",
    "devices.srs3 = ps.Stanford830(inst.srs3)\n",
    "devices.srs4 = ps.Stanford830(inst.srs4)\n",
    "devices.srs5 = ps.Stanford860(inst.srs5)\n",
    "\n",
    "devices.top_gate = ps.YokogawaGS200(inst.yoko18)\n",
    "devices.bottom_gate = ps.YokogawaGS200(inst.yoko17)\n",
    "devices.si_gate = ps.Keithley2400(inst.keith24)\n",
    "\n",
    "\n",
    "devices.magnet = ps.AmericanMagnetics430(inst.ami)"
   ]
  },
  {
   "cell_type": "markdown",
   "id": "7b8457aa-c1b3-45b5-8b9d-463d56f02de8",
   "metadata": {},
   "source": [
    "## Functions"
   ]
  },
  {
   "cell_type": "markdown",
   "id": "733497c8-88aa-4fc3-bbfb-9e3a38469e90",
   "metadata": {},
   "source": [
    "### Gate checks"
   ]
  },
  {
   "cell_type": "code",
   "execution_count": null,
   "id": "3ea1a254-af05-44d1-8a42-8d39ab573ed6",
   "metadata": {},
   "outputs": [],
   "source": [
    "devices.top_gate.voltage_settings['range'] = [-10,10]\n",
    "devices.bottom_gate.voltage_settings['range'] = [-10, 10]"
   ]
  },
  {
   "cell_type": "code",
   "execution_count": null,
   "id": "e09d2708-ec17-47d6-9174-93672c80ad27",
   "metadata": {},
   "outputs": [],
   "source": [
    "def check_nD_nscan(runinfo, d_set):\n",
    "\n",
    "    vt_range = [-10, 10]\n",
    "    vb_range = [-10, 10]\n",
    "\n",
    "    n_min = np.min(list(runinfo.loop0.scan_dict.values()))\n",
    "    n_max = np.max(list(runinfo.loop0.scan_dict.values()))\n",
    "\n",
    "    corners = [[n_min, d_set], [n_min, d_set], [n_max, d_set], [n_max, d_set]]\n",
    "\n",
    "    vts = np.array([Vt_function(*corner) for corner in corners])\n",
    "    vbs = np.array([Vb_function(*corner) for corner in corners])\n",
    "\n",
    "    assert not np.any(vts < vt_range[0]) ,'Vt lower than range'\n",
    "    assert not np.any(vts > vt_range[1]), 'Vt higher than range'\n",
    "    assert not np.any(vbs < vb_range[0]), 'Vb lower than range'\n",
    "    assert not np.any(vbs > vb_range[1]), 'Vb higher than range'"
   ]
  },
  {
   "cell_type": "code",
   "execution_count": null,
   "id": "e74521cd-5cc9-4491-8e18-c3afa3a9a2b5",
   "metadata": {},
   "outputs": [],
   "source": [
    "def check_nD_dscan(runinfo, n_set):\n",
    "\n",
    "    vt_range = [-10, 10]\n",
    "    vb_range = [-10, 10]\n",
    "\n",
    "    d_min = np.min(list(runinfo.loop0.scan_dict.values()))\n",
    "    d_max = np.max(list(runinfo.loop0.scan_dict.values()))\n",
    "\n",
    "    corners = [[n_set, d_min], [n_set, d_min], [n_set, d_max], [n_set, d_max]]\n",
    "\n",
    "    vts = np.array([Vt_function(*corner) for corner in corners])\n",
    "    vbs = np.array([Vb_function(*corner) for corner in corners])\n",
    "\n",
    "    assert not np.any(vts < vt_range[0]) ,'Vt lower than range'\n",
    "    assert not np.any(vts > vt_range[1]), 'Vt higher than range'\n",
    "    assert not np.any(vbs < vb_range[0]), 'Vb lower than range'\n",
    "    assert not np.any(vbs > vb_range[1]), 'Vb higher than range'"
   ]
  },
  {
   "cell_type": "code",
   "execution_count": null,
   "id": "474df28b-e536-4f2b-a9da-9b0f4e9b596a",
   "metadata": {},
   "outputs": [],
   "source": [
    "def check_nD_map(runinfo):\n",
    "\n",
    "    vt_range = [-10, 10]\n",
    "    vb_range = [-10, 10]\n",
    "\n",
    "    n_min = np.min(list(runinfo.loop0.scan_dict.values()))\n",
    "    n_max = np.max(list(runinfo.loop0.scan_dict.values()))\n",
    "\n",
    "    d_min = np.min(list(runinfo.loop1.scan_dict.values()))\n",
    "    d_max = np.max(list(runinfo.loop1.scan_dict.values()))\n",
    "\n",
    "    corners = [[n_min, d_min], [n_min, d_max], [n_max, d_min], [n_max, d_max]]\n",
    "\n",
    "    vts = np.array([Vt_function(*corner) for corner in corners])\n",
    "    vbs = np.array([Vb_function(*corner) for corner in corners])\n",
    "\n",
    "    assert not np.any(vts < vt_range[0]) ,'Vt lower than range'\n",
    "    assert not np.any(vts > vt_range[1]), 'Vt higher than range'\n",
    "    assert not np.any(vbs < vb_range[0]), 'Vb lower than range'\n",
    "    assert not np.any(vbs > vb_range[1]), 'Vb higher than range'"
   ]
  },
  {
   "cell_type": "markdown",
   "id": "e1b58ed0-c47d-477c-9f7c-08b2a06bb951",
   "metadata": {},
   "source": [
    "### Measurement"
   ]
  },
  {
   "cell_type": "code",
   "execution_count": null,
   "id": "a9272458-64f4-448e-a2e5-2ca3e1b80888",
   "metadata": {},
   "outputs": [],
   "source": [
    "def measure_SRS(expt):\n",
    "    devices = expt.devices\n",
    "    runinfo = expt.runinfo\n",
    "    \n",
    "    d = ps.ItemAttribute()\n",
    "    \n",
    "    ix, itheta = devices.srs1.snap('x', 'theta')\n",
    "    d.ix = ix\n",
    "    d.itheta = itheta\n",
    "    \n",
    "    v1x, v1theta = devices.srs2.snap('x', 'theta')\n",
    "    d.v1x = v1x\n",
    "    d.v1theta = v1theta\n",
    "    \n",
    "    v2x, v2theta = devices.srs3.snap('x', 'theta')\n",
    "    d.v2x = v2x\n",
    "    d.v2theta = v2theta\n",
    "    \n",
    "    v3x, v3theta = devices.srs4.snap('x', 'theta')\n",
    "    d.v3x = v3x\n",
    "    d.v3theta = v3theta\n",
    "    \n",
    "    v4x, v4theta = devices.srs5.snap('x', 'theta')\n",
    "    d.v4x = v4x\n",
    "    d.v4theta = v4theta\n",
    "    \n",
    "    d.b0 = devices.magnet.field \n",
    "         \n",
    "    return d\n",
    "\n",
    "def end_function(expt):\n",
    "    \n",
    "    expt.devices.magnet.pause()\n",
    "#     devices.top_gate.voltage = 0\n",
    "#     devices.bottom_gate.voltage = 0\n",
    "#     devices.srs5.sineout_voltage = 0\n",
    "    "
   ]
  },
  {
   "cell_type": "markdown",
   "id": "2993e0e2-ddc5-4e18-97b4-74384999c23e",
   "metadata": {},
   "source": [
    "### nD conversion (example)"
   ]
  },
  {
   "cell_type": "code",
   "execution_count": null,
   "id": "e1eaf781-3978-4506-9522-0869ac762700",
   "metadata": {},
   "outputs": [],
   "source": [
    "Ct = 0.00060\n",
    "Cb = 0.00055\n",
    "Vt0, Vb0 = 0.01, 0.01\n",
    "\n",
    "n0 = -(Ct*Vt0_2 + Cb*Vb0)/1.602e-19\n",
    "\n",
    "def n_function(Vt, Vb): # n, D in convenient units\n",
    "    return ((Ct*Vt + Cb*Vb)/1.602e-19 + n0)/1e16\n",
    "\n",
    "def D_function(Vt, Vb): # n, D in convenient units\n",
    "    return (Ct*Vt -Cb*Vb)/(2*8.854e-12)/1e6\n",
    "\n",
    "def Vt_function(n,D): # n, D in convenient units\n",
    "    return (2*8.854e-12* (D*1e6) + 1.602e-19*((n*1e16) - n0))/2/Ct\n",
    "           \n",
    "def Vb_function(n,D): # n, D in convenient units\n",
    "    return (-2*8.854e-12* (D*1e6) + 1.602e-19*((n*1e16) - n0))/2/Cb\n",
    "\n",
    "def Vt_Vb(n, D):\n",
    "    print('n = {}, D = {}, Vt = {}, Vb = {}'.format(n, D, round(Vt_function(n, D), 3), round(Vb_function(n, D),3)))"
   ]
  },
  {
   "cell_type": "markdown",
   "id": "1b9fe878-bdde-450f-966b-adf8d5c1cbbc",
   "metadata": {},
   "source": [
    "# nD map"
   ]
  },
  {
   "cell_type": "code",
   "execution_count": null,
   "id": "d728fe39-f803-4cd5-bcdd-518af86324c9",
   "metadata": {},
   "outputs": [],
   "source": [
    "if expt.runinfo.running == False:\n",
    "    runinfo = ps.RunInfo()               \n",
    "\n",
    "    runinfo.measure_function = measure_SRS\n",
    "    runinfo.end_function = end_function\n",
    "\n",
    "    # to save configuration \n",
    "    runinfo.new_runinfo = 'Enter additional experiment notes here'\n",
    "\n",
    "    #### conversion from n/D to Vt/Vb ############\n",
    "    ######################################################\n",
    "    Ct = 0.00060\n",
    "    Cb = 0.00055\n",
    "    Vt0, Vb0 = 0.01, 0.01\n",
    "    \n",
    "    n0 = -(Ct*Vt0_2 + Cb*Vb0)/1.602e-19\n",
    "    \n",
    "    def n_function(Vt, Vb): # n, D in convenient units\n",
    "        return ((Ct*Vt + Cb*Vb)/1.602e-19 + n0)/1e16\n",
    "    \n",
    "    def D_function(Vt, Vb): # n, D in convenient units\n",
    "        return (Ct*Vt -Cb*Vb)/(2*8.854e-12)/1e6\n",
    "    ######################################################\n",
    "\n",
    "\n",
    "    def set_n(n):\n",
    "        devices.top_gate.voltage = (Vt_function(n, expt.runinfo.D))\n",
    "        devices.bottom_gate.voltage = (Vb_function(n, expt.runinfo.D))\n",
    "\n",
    "    def set_D(D):\n",
    "        expt.runinfo.D = D\n",
    "\n",
    "\n",
    "    runinfo.loop0 = ps.FunctionScan(set_n, np.linspace(-1, 1, 200),  dt = 0.4)\n",
    "    runinfo.loop1 = ps.FunctionScan(set_D, np.linspace(-200, 200, 150), dt = 1)\n",
    "\n",
    "\n",
    "    check_nD_map(runinfo)\n",
    "\n",
    "\n",
    "    expt = ps.PointByPointSweep(runinfo, devices)\n",
    "    expt.start_thread()\n",
    "\n",
    "    try:\n",
    "        ps.live_plot1D(expt, data_name='v1x')\n",
    "        plt.grid()\n",
    "    except KeyboardInterrupt as p:\n",
    "        expt.stop()\n",
    "else:\n",
    "    print('Previous experiment still running')"
   ]
  }
 ],
 "metadata": {
  "kernelspec": {
   "display_name": "Python 3 (ipykernel)",
   "language": "python",
   "name": "python3"
  },
  "language_info": {
   "codemirror_mode": {
    "name": "ipython",
    "version": 3
   },
   "file_extension": ".py",
   "mimetype": "text/x-python",
   "name": "python",
   "nbconvert_exporter": "python",
   "pygments_lexer": "ipython3",
   "version": "3.12.2"
  }
 },
 "nbformat": 4,
 "nbformat_minor": 5
}
