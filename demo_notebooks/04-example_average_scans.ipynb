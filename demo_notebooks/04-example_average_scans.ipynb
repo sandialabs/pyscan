{
 "cells": [
  {
   "cell_type": "markdown",
   "metadata": {},
   "source": [
    "# 04 Example - Average Scans"
   ]
  },
  {
   "cell_type": "code",
   "execution_count": 1,
   "metadata": {
    "execution": {
     "iopub.execute_input": "2023-12-14T21:20:42.494896Z",
     "iopub.status.busy": "2023-12-14T21:20:42.494123Z",
     "iopub.status.idle": "2023-12-14T21:20:44.404396Z",
     "shell.execute_reply": "2023-12-14T21:20:44.403892Z"
    },
    "tags": []
   },
   "outputs": [],
   "source": [
    "import pyscan as ps\n",
    "import matplotlib.pyplot as plt\n",
    "import numpy as np\n",
    "from time import sleep\n",
    "import random"
   ]
  },
  {
   "cell_type": "markdown",
   "metadata": {},
   "source": [
    "## Setup devices"
   ]
  },
  {
   "cell_type": "code",
   "execution_count": 2,
   "metadata": {},
   "outputs": [],
   "source": [
    "devices = ps.ItemAttribute()\n",
    "\n",
    "devices.v1 = ps.TestVoltage() # Device 1\n",
    "devices.v2 = ps.TestVoltage() # Device 2\n",
    "devices.v3 = ps.TestVoltage() # Device 3"
   ]
  },
  {
   "cell_type": "markdown",
   "metadata": {},
   "source": [
    "## Define a measure function"
   ]
  },
  {
   "cell_type": "code",
   "execution_count": 3,
   "metadata": {
    "execution": {
     "iopub.execute_input": "2023-12-14T21:20:44.406681Z",
     "iopub.status.busy": "2023-12-14T21:20:44.406468Z",
     "iopub.status.idle": "2023-12-14T21:20:44.409781Z",
     "shell.execute_reply": "2023-12-14T21:20:44.409409Z"
    },
    "tags": []
   },
   "outputs": [],
   "source": [
    "def get_voltage_data(expt):\n",
    "    \"\"\"\n",
    "    Reads the voltage from v1, v2 devices and adds a random component. Also adds a calculated value vsum.\n",
    "    \"\"\"\n",
    "\n",
    "    runinfo = expt.runinfo\n",
    "    devices = expt.devices\n",
    "\n",
    "    d = ps.ItemAttribute()\n",
    "\n",
    "    d.v1_readout = devices.v1.voltage + random.gauss(mu=0, sigma=1)\n",
    "    d.v2_readout = devices.v2.voltage + random.gauss(mu=0, sigma=1)\n",
    "\n",
    "    d.vsum = d.v1_readout + d.v2_readout\n",
    "    \n",
    "    return d"
   ]
  },
  {
   "cell_type": "markdown",
   "metadata": {},
   "source": [
    "## Experiments"
   ]
  },
  {
   "cell_type": "markdown",
   "metadata": {},
   "source": [
    "### 1. 0D scan with scan0 as AverageScan, using point data\n",
    "\n",
    "This experiment will output data containing a single point, which represents the average of 10 measurements.\n",
    "Remember, AverageScan does not add a dimension to the resulting data as only the averaged value is ultimately saved."
   ]
  },
  {
   "cell_type": "code",
   "execution_count": 4,
   "metadata": {
    "execution": {
     "iopub.execute_input": "2023-12-14T21:20:44.415783Z",
     "iopub.status.busy": "2023-12-14T21:20:44.415661Z",
     "iopub.status.idle": "2023-12-14T21:20:45.864592Z",
     "shell.execute_reply": "2023-12-14T21:20:45.863337Z"
    },
    "tags": []
   },
   "outputs": [
    {
     "name": "stdout",
     "output_type": "stream",
     "text": [
      "Scan 1/1 Complete\n"
     ]
    },
    {
     "data": {
      "text/plain": [
       "0.01252099254731577"
      ]
     },
     "execution_count": 4,
     "metadata": {},
     "output_type": "execute_result"
    }
   ],
   "source": [
    "# Set v1 voltage to 0V\n",
    "devices.v1.voltage = 0\n",
    "\n",
    "# Setup runinfo with scan0 as AverageScan\n",
    "runinfo = ps.RunInfo()\n",
    "runinfo.scan0 = ps.AverageScan(10, dt=0.01)\n",
    "\n",
    "runinfo.measure_function = get_voltage_data\n",
    "\n",
    "expt = ps.Experiment(runinfo, devices)\n",
    "expt.run()\n",
    "\n",
    "sleep(1)\n",
    "expt.v1_readout"
   ]
  },
  {
   "cell_type": "markdown",
   "metadata": {},
   "source": [
    "### 2. 1D Scan with scan1 as AverageScan, using point data"
   ]
  },
  {
   "cell_type": "code",
   "execution_count": 5,
   "metadata": {
    "execution": {
     "iopub.execute_input": "2023-12-14T21:20:45.870575Z",
     "iopub.status.busy": "2023-12-14T21:20:45.870074Z",
     "iopub.status.idle": "2023-12-14T21:20:45.883555Z",
     "shell.execute_reply": "2023-12-14T21:20:45.882577Z"
    },
    "tags": []
   },
   "outputs": [
    {
     "name": "stdout",
     "output_type": "stream",
     "text": [
      "Scan 1/1 Complete\n"
     ]
    }
   ],
   "source": [
    "# Setup runinfo with scan0 as PropertyScan and scan1 as AverageScan\n",
    "runinfo = ps.RunInfo()\n",
    "runinfo.scan0 = ps.PropertyScan({'v1': ps.drange(0, 1, 10)}, prop='voltage', dt=0.01)\n",
    "runinfo.scan1 = ps.AverageScan(10, dt=0.01)\n",
    "\n",
    "runinfo.measure_function = get_voltage_data\n",
    "\n",
    "expt = ps.Experiment(runinfo, devices)\n",
    "expt.start_thread()\n"
   ]
  },
  {
   "cell_type": "code",
   "execution_count": 6,
   "metadata": {
    "execution": {
     "iopub.execute_input": "2023-12-14T21:20:45.887634Z",
     "iopub.status.busy": "2023-12-14T21:20:45.887294Z",
     "iopub.status.idle": "2023-12-14T21:20:50.523686Z",
     "shell.execute_reply": "2023-12-14T21:20:50.523288Z"
    },
    "tags": []
   },
   "outputs": [
    {
     "data": {
      "image/png": "[encoded data removed]",
      "text/plain": [
       "<Figure size 640x480 with 1 Axes>"
      ]
     },
     "metadata": {},
     "output_type": "display_data"
    }
   ],
   "source": [
    "ps.live_plot1D(expt)"
   ]
  },
  {
   "cell_type": "markdown",
   "metadata": {},
   "source": [
    "### 3. 2D Scan with scan2 as AverageScan, using point data\n",
    "\n",
    "This scan collects an entire grid of data with 'v1_voltage' on the x axis and 'v2_voltage' on the y axis. This is repeated 10 times, with the new data incoprorated into the average each time."
   ]
  },
  {
   "cell_type": "code",
   "execution_count": 7,
   "metadata": {
    "execution": {
     "iopub.execute_input": "2023-12-14T21:20:50.525833Z",
     "iopub.status.busy": "2023-12-14T21:20:50.525551Z",
     "iopub.status.idle": "2023-12-14T21:20:50.530848Z",
     "shell.execute_reply": "2023-12-14T21:20:50.530511Z"
    },
    "tags": []
   },
   "outputs": [
    {
     "name": "stdout",
     "output_type": "stream",
     "text": [
      "Scan 1/1 Complete\n"
     ]
    }
   ],
   "source": [
    "# Setup runinfo with scan0 and scan1 as PropertyScan and scan2 as AverageScan\n",
    "runinfo = ps.RunInfo()\n",
    "runinfo.scan0 = ps.PropertyScan({'v1': ps.drange(0, 1, 10)}, prop='voltage', dt=0.01)\n",
    "runinfo.scan1 = ps.PropertyScan({'v2': ps.drange(0, 2, 10)}, prop='voltage', dt=0.01)\n",
    "runinfo.scan2 = ps.AverageScan(10, dt=0.1)\n",
    "\n",
    "runinfo.measure_function = get_voltage_data\n",
    "\n",
    "expt = ps.Experiment(runinfo, devices)\n",
    "expt.start_thread()\n"
   ]
  },
  {
   "cell_type": "code",
   "execution_count": 8,
   "metadata": {
    "execution": {
     "iopub.execute_input": "2023-12-14T21:20:50.532789Z",
     "iopub.status.busy": "2023-12-14T21:20:50.532630Z",
     "iopub.status.idle": "2023-12-14T21:21:14.670317Z",
     "shell.execute_reply": "2023-12-14T21:21:14.669926Z"
    },
    "tags": []
   },
   "outputs": [
    {
     "data": {
      "image/png": "[encoded data removed]",
      "text/plain": [
       "<Figure size 640x480 with 1 Axes>"
      ]
     },
     "metadata": {},
     "output_type": "display_data"
    }
   ],
   "source": [
    "ps.live_plot2D(expt, data_name=\"vsum\")"
   ]
  },
  {
   "cell_type": "markdown",
   "metadata": {},
   "source": [
    "### 4. 2D Scan with scan1 as AverageScan, using point data\n",
    "\n",
    "This scan collects a single row of data iterating over the 'v1_voltage'. This is repeated 10 times, with the new data incoprorated into the average each time. Then, 'v2_volgage' is iterated (y-axis) and the cycle repeats until all scans have been scaned through until completion. "
   ]
  },
  {
   "cell_type": "code",
   "execution_count": 9,
   "metadata": {},
   "outputs": [
    {
     "name": "stdout",
     "output_type": "stream",
     "text": [
      "Scan 1/1 Complete\n"
     ]
    }
   ],
   "source": [
    "# Setup runinfo with scan0 as PropertyScan, scan1 as AverageScan, and scan2 as PropertyScan\n",
    "runinfo = ps.RunInfo()\n",
    "runinfo.scan0 = ps.PropertyScan({'v1': ps.drange(0, 1, 10)}, prop='voltage', dt=0.01)\n",
    "runinfo.scan1 = ps.AverageScan(10, dt=0.1) \n",
    "runinfo.scan2 = ps.PropertyScan({'v2': ps.drange(0, 2, 10)}, prop='voltage', dt=0.01)\n",
    "\n",
    "runinfo.measure_function = get_voltage_data\n",
    "\n",
    "expt = ps.Experiment(runinfo, devices)\n",
    "expt.start_thread()\n"
   ]
  },
  {
   "cell_type": "code",
   "execution_count": 10,
   "metadata": {},
   "outputs": [
    {
     "data": {
      "image/png": "[encoded data removed]",
      "text/plain": [
       "<Figure size 640x480 with 1 Axes>"
      ]
     },
     "metadata": {},
     "output_type": "display_data"
    }
   ],
   "source": [
    "# note the kwargs x_name and y_name must be specified in this case since we are not using the default scans, which are the first two scan instances \n",
    "ps.live_plot2D(expt, x_name='v1_voltage', y_name='v2_voltage', data_name=\"vsum\")"
   ]
  }
 ],
 "metadata": {
  "kernelspec": {
   "display_name": "ps",
   "language": "python",
   "name": "python3"
  },
  "language_info": {
   "codemirror_mode": {
    "name": "ipython",
    "version": 3
   },
   "file_extension": ".py",
   "mimetype": "text/x-python",
   "name": "python",
   "nbconvert_exporter": "python",
   "pygments_lexer": "ipython3",
   "version": "3.13.3"
  }
 },
 "nbformat": 4,
 "nbformat_minor": 4
}
