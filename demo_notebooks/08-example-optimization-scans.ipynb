{
 "cells": [
  {
   "cell_type": "markdown",
   "id": "a19da796",
   "metadata": {},
   "source": [
    "# 01 Example - Property Scans with Point Data"
   ]
  },
  {
   "cell_type": "code",
   "execution_count": 1,
   "id": "454a5e23",
   "metadata": {},
   "outputs": [],
   "source": [
    "import pyscan as ps\n",
    "import numpy as np\n",
    "import matplotlib.pyplot as plt"
   ]
  },
  {
   "cell_type": "markdown",
   "id": "c3ed0472",
   "metadata": {},
   "source": [
    "## Setup devices"
   ]
  },
  {
   "cell_type": "code",
   "execution_count": 2,
   "id": "433ff5a4",
   "metadata": {},
   "outputs": [],
   "source": [
    "devices = ps.ItemAttribute()\n",
    "\n",
    "devices.v1 = ps.TestVoltage() # Device 1"
   ]
  },
  {
   "cell_type": "markdown",
   "id": "5588897a",
   "metadata": {},
   "source": [
    "## Define a measure function"
   ]
  },
  {
   "cell_type": "code",
   "execution_count": 3,
   "id": "f8a0523a",
   "metadata": {},
   "outputs": [],
   "source": [
    "def get_voltage_data(expt):\n",
    "    \"\"\"\n",
    "    Reads the voltage from v1, v2, and v3 devices. Also adds a calculated value vsum.\n",
    "    \"\"\"\n",
    "\n",
    "    runinfo = expt.runinfo\n",
    "    devices = expt.devices\n",
    "\n",
    "    d = ps.ItemAttribute()\n",
    "\n",
    "    d.v1_readout = devices.v1.voltage\n",
    "\n",
    "    d.vres = (d.v1_readout - 4)**2\n",
    "    \n",
    "    return d"
   ]
  },
  {
   "cell_type": "markdown",
   "id": "7c4b726b",
   "metadata": {},
   "source": [
    "# Define an optimization function"
   ]
  },
  {
   "cell_type": "code",
   "execution_count": 4,
   "id": "5a271464",
   "metadata": {},
   "outputs": [],
   "source": [
    "def voltage_result_grad(v):\n",
    "    return 2 * v - 8"
   ]
  },
  {
   "cell_type": "code",
   "execution_count": 5,
   "id": "eaef4119",
   "metadata": {},
   "outputs": [],
   "source": [
    "def gradient_descent(f_val, f_grad=None, learning_rate=1.):\n",
    "    return f_val - learning_rate * f_grad(f_val)"
   ]
  },
  {
   "cell_type": "markdown",
   "id": "092c1db2",
   "metadata": {},
   "source": [
    "# Experiments"
   ]
  },
  {
   "cell_type": "code",
   "execution_count": 6,
   "id": "0b2c251b",
   "metadata": {},
   "outputs": [
    {
     "name": "stderr",
     "output_type": "stream",
     "text": [
      "Exception in thread Thread-3 (run):\n",
      "Traceback (most recent call last):\n",
      "  File \u001b[35m\"c:\\Users\\djbasil\\AppData\\Local\\miniconda3\\envs\\ps\\Lib\\threading.py\"\u001b[0m, line \u001b[35m1041\u001b[0m, in \u001b[35m_bootstrap_inner\u001b[0m\n",
      "    \u001b[31mself.run\u001b[0m\u001b[1;31m()\u001b[0m\n",
      "    \u001b[31m~~~~~~~~\u001b[0m\u001b[1;31m^^\u001b[0m\n",
      "  File \u001b[35m\"c:\\Users\\djbasil\\AppData\\Local\\miniconda3\\envs\\ps\\Lib\\site-packages\\ipykernel\\ipkernel.py\"\u001b[0m, line \u001b[35m766\u001b[0m, in \u001b[35mrun_closure\u001b[0m\n",
      "    \u001b[31m_threading_Thread_run\u001b[0m\u001b[1;31m(self)\u001b[0m\n",
      "    \u001b[31m~~~~~~~~~~~~~~~~~~~~~\u001b[0m\u001b[1;31m^^^^^^\u001b[0m\n",
      "  File \u001b[35m\"c:\\Users\\djbasil\\AppData\\Local\\miniconda3\\envs\\ps\\Lib\\threading.py\"\u001b[0m, line \u001b[35m992\u001b[0m, in \u001b[35mrun\u001b[0m\n",
      "    \u001b[31mself._target\u001b[0m\u001b[1;31m(*self._args, **self._kwargs)\u001b[0m\n",
      "    \u001b[31m~~~~~~~~~~~~\u001b[0m\u001b[1;31m^^^^^^^^^^^^^^^^^^^^^^^^^^^^^\u001b[0m\n",
      "  File \u001b[35m\"C:\\Users\\djbasil\\Documents\\GitHub\\pyscan\\pyscan\\measurement\\experiment.py\"\u001b[0m, line \u001b[35m273\u001b[0m, in \u001b[35mrun\u001b[0m\n",
      "    \u001b[31mself.generic_experiment\u001b[0m\u001b[1;31m()\u001b[0m\n",
      "    \u001b[31m~~~~~~~~~~~~~~~~~~~~~~~\u001b[0m\u001b[1;31m^^\u001b[0m\n",
      "  File \u001b[35m\"C:\\Users\\djbasil\\Documents\\GitHub\\pyscan\\pyscan\\measurement\\experiment.py\"\u001b[0m, line \u001b[35m42\u001b[0m, in \u001b[35mgeneric_experiment\u001b[0m\n",
      "    self.runinfo['t{}'.format(i)] = np.zeros(\u001b[1;31mself.runinfo.dims\u001b[0m)\n",
      "                                             \u001b[1;31m^^^^^^^^^^^^^^^^^\u001b[0m\n",
      "  File \u001b[35m\"C:\\Users\\djbasil\\Documents\\GitHub\\pyscan\\pyscan\\measurement\\run_info.py\"\u001b[0m, line \u001b[35m145\u001b[0m, in \u001b[35mdims\u001b[0m\n",
      "    dims = (\u001b[1;31mself.scan0.n\u001b[0m,\n",
      "            \u001b[1;31m^^^^^^^^^^^^\u001b[0m\n",
      "\u001b[1;35mAttributeError\u001b[0m: \u001b[35m'OptimizeScan' object has no attribute 'n'\u001b[0m\n"
     ]
    }
   ],
   "source": [
    "runinfo =ps.RunInfo()\n",
    "runinfo.scan0 = ps.OptimizeScan({'v1': 1.}, prop='voltage', f_optimizer=gradient_descent,\n",
    "                                optimizer_inputs=['vres'],\n",
    "                                optimizer_hyperparameters={'f_grad': voltage_result_grad, 'learning_rate': .1},\n",
    "                                iteration_max=100)\n",
    "\n",
    "runinfo.measure_function = get_voltage_data\n",
    "\n",
    "expt = ps.Experiment(runinfo, devices, time=True)\n",
    "expt.start_thread()"
   ]
  },
  {
   "cell_type": "code",
   "execution_count": 7,
   "id": "d65e653a",
   "metadata": {},
   "outputs": [
    {
     "ename": "KeyboardInterrupt",
     "evalue": "",
     "output_type": "error",
     "traceback": [
      "\u001b[31m---------------------------------------------------------------------------\u001b[39m",
      "\u001b[31mKeyboardInterrupt\u001b[39m                         Traceback (most recent call last)",
      "\u001b[36mCell\u001b[39m\u001b[36m \u001b[39m\u001b[32mIn[7]\u001b[39m\u001b[32m, line 1\u001b[39m\n\u001b[32m----> \u001b[39m\u001b[32m1\u001b[39m \u001b[43mps\u001b[49m\u001b[43m.\u001b[49m\u001b[43mlive_plot1D\u001b[49m\u001b[43m(\u001b[49m\u001b[43mexpt\u001b[49m\u001b[43m,\u001b[49m\u001b[43m \u001b[49m\u001b[43mdata_name\u001b[49m\u001b[43m=\u001b[49m\u001b[33;43m\"\u001b[39;49m\u001b[33;43mv1_readout\u001b[39;49m\u001b[33;43m\"\u001b[39;49m\u001b[43m)\u001b[49m\n",
      "\u001b[36mFile \u001b[39m\u001b[32m~\\Documents\\GitHub\\pyscan\\pyscan\\plotting\\live_plot.py:29\u001b[39m, in \u001b[36mlive_plot.<locals>.live_plot_function\u001b[39m\u001b[34m(expt, *arg, **kwarg)\u001b[39m\n\u001b[32m     26\u001b[39m \u001b[38;5;28;01mdef\u001b[39;00m\u001b[38;5;250m \u001b[39m\u001b[34mlive_plot_function\u001b[39m(expt=\u001b[38;5;28;01mNone\u001b[39;00m, *arg, **kwarg):\n\u001b[32m     28\u001b[39m     \u001b[38;5;28;01mwhile\u001b[39;00m (expt.runinfo.running \u001b[38;5;129;01mis\u001b[39;00m \u001b[38;5;28;01mTrue\u001b[39;00m \u001b[38;5;129;01mand\u001b[39;00m \u001b[38;5;28mlen\u001b[39m(expt.runinfo.measured) < \u001b[32m1\u001b[39m):\n\u001b[32m---> \u001b[39m\u001b[32m29\u001b[39m         \u001b[43msleep\u001b[49m\u001b[43m(\u001b[49m\u001b[32;43m1\u001b[39;49m\u001b[43m)\u001b[49m\n\u001b[32m     31\u001b[39m     plt.axis()\n\u001b[32m     32\u001b[39m     plt.ion()\n",
      "\u001b[31mKeyboardInterrupt\u001b[39m: "
     ]
    }
   ],
   "source": [
    "ps.live_plot1D(expt, data_name=\"v1_readout\")"
   ]
  },
  {
   "cell_type": "code",
   "execution_count": null,
   "id": "f6a9b637",
   "metadata": {},
   "outputs": [],
   "source": []
  }
 ],
 "metadata": {
  "kernelspec": {
   "display_name": "ps",
   "language": "python",
   "name": "python3"
  },
  "language_info": {
   "codemirror_mode": {
    "name": "ipython",
    "version": 3
   },
   "file_extension": ".py",
   "mimetype": "text/x-python",
   "name": "python",
   "nbconvert_exporter": "python",
   "pygments_lexer": "ipython3",
   "version": "3.13.3"
  }
 },
 "nbformat": 4,
 "nbformat_minor": 5
}
